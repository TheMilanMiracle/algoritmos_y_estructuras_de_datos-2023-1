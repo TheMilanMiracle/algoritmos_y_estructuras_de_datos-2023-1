{
  "cells": [
    {
      "cell_type": "markdown",
      "metadata": {
        "id": "view-in-github",
        "colab_type": "text"
      },
      "source": [
        "<a href=\"https://colab.research.google.com/github/TheMilanMiracle/algoritmos_y_estructuras_de_datos-2023-1/blob/main/Ejercicio_1.ipynb\" target=\"_parent\"><img src=\"https://colab.research.google.com/assets/colab-badge.svg\" alt=\"Open In Colab\"/></a>"
      ]
    },
    {
      "cell_type": "markdown",
      "metadata": {
        "id": "I60sAED2nz0E"
      },
      "source": [
        "### **Ejercicio 1 (ejercicio 1.2)**\n",
        "Luciano Márquez",
        "\n",
        "Existe un algoritmo alternativo a Hoare, que resulta en una codificación más sencilla. Este algoritmo, debido a **Lomuto**, se basa en el siguiente invariante:\n",
        "\n",
        "![particion-Lomuto](https://github.com/ivansipiran/AED-Apuntes/blob/main/recursos/particion-Lomuto.png?raw=1)\n",
        "\n",
        "En este algoritmo, en cada iteración, si $a[j]<p$, se intercambian $a[i]$ con $a[j]$ y se incrementa $i$, porque ahora hay un elemento más en el grupo de los menores que $p$. Después de esto, se incrementa $j$, *incondicionalmente* (¿por qué es correcto hacer eso?).\n",
        "\n",
        "**Es correcto hacer esto pues es el $j$ el que va a recorrer la lista, y con la condición que lo intercambia con $i$ va ir ordenando la partición**\n",
        "\n",
        "\n",
        "\n",
        "Programe la partición de Lomuto en el recuadro siguiente y pruébela."
      ]
    },
    {
      "cell_type": "code",
      "execution_count": null,
      "metadata": {
        "id": "9i5TVEkPnz0F"
      },
      "outputs": [],
      "source": [
        "def particionLomuto(a,p):\n",
        "    (i,j) = (0,0) #se inician los i e j que van a recorrer la lista\n",
        "    while j <= (len(a)-1): #mientras j siga recorriendo la lista\n",
        "      if a[j] < p: #si se cumple que el valor j es menor o igual que la particion\n",
        "        a[j], a[i] = a[i], a[j] #se intercambian los valores j e i\n",
        "        i += 1 #si se aplica la regla sé aumenta i en 1\n",
        "      j += 1 #se aumenta incondicionalmente j en uno en cada iteración\n",
        "\n",
        "    return (p,i,a)"
      ]
    },
    {
      "cell_type": "markdown",
      "source": [
        "Función para verificar particiones (del apunte):"
      ],
      "metadata": {
        "id": "6DnZBYEmoior"
      }
    },
    {
      "cell_type": "code",
      "execution_count": null,
      "metadata": {
        "id": "bc97jL-hnz0F"
      },
      "outputs": [],
      "source": [
        "def verifica_particion(t): # imprime y chequea partición\n",
        "    (p,m,a)=t\n",
        "    # p=punto de corte, m=número de elementos <p, a=lista completa particionada\n",
        "    print(a[0:m],p,a[m:])\n",
        "    print(\"Partición OK\" if (m==0 or max(a[0:m])<p) and (m==len(a) or min(a[m:])>p)\n",
        "          else \"Error\")"
      ]
    },
    {
      "cell_type": "code",
      "execution_count": null,
      "metadata": {
        "id": "Xw-vOkbonz0H",
        "colab": {
          "base_uri": "https://localhost:8080/"
        },
        "outputId": "51f633fe-9d49-458e-b0cb-644d653050b2"
      },
      "outputs": [
        {
          "output_type": "stream",
          "name": "stdout",
          "text": [
            "[21, 34, 37, 15, 36] 50 [73, 77, 65, 82, 98, 56]\n",
            "Partición OK\n"
          ]
        }
      ],
      "source": [
        "verifica_particion(particionLomuto([73,21,34,98,56,37,77,65,82,15,36],50))"
      ]
    },
    {
      "cell_type": "code",
      "execution_count": null,
      "metadata": {
        "id": "LOlmRVWSnz0H",
        "colab": {
          "base_uri": "https://localhost:8080/"
        },
        "outputId": "296422ef-a26f-441b-b2ad-a7b689ecec25"
      },
      "outputs": [
        {
          "output_type": "stream",
          "name": "stdout",
          "text": [
            "[] 0 [73, 21, 34, 98, 56, 37, 77, 65, 82, 15, 36]\n",
            "Partición OK\n"
          ]
        }
      ],
      "source": [
        "verifica_particion(particionLomuto([73,21,34,98,56,37,77,65,82,15,36],0))"
      ]
    },
    {
      "cell_type": "code",
      "execution_count": null,
      "metadata": {
        "id": "1uFi2yu5nz0I",
        "colab": {
          "base_uri": "https://localhost:8080/"
        },
        "outputId": "9962de96-fbb0-4198-8d83-406f680c21fd"
      },
      "outputs": [
        {
          "output_type": "stream",
          "name": "stdout",
          "text": [
            "[73, 21, 34, 98, 56, 37, 77, 65, 82, 15, 36] 100 []\n",
            "Partición OK\n"
          ]
        }
      ],
      "source": [
        "verifica_particion(particionLomuto([73,21,34,98,56,37,77,65,82,15,36],100))"
      ]
    }
  ],
  "metadata": {
    "kernelspec": {
      "display_name": "Python 3",
      "language": "python",
      "name": "python3"
    },
    "language_info": {
      "codemirror_mode": {
        "name": "ipython",
        "version": 3
      },
      "file_extension": ".py",
      "mimetype": "text/x-python",
      "name": "python",
      "nbconvert_exporter": "python",
      "pygments_lexer": "ipython3",
      "version": "3.6.9"
    },
    "colab": {
      "provenance": [],
      "include_colab_link": true
    }
  },
  "nbformat": 4,
  "nbformat_minor": 0
}
