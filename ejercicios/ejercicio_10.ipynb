{
  "cells": [
    {
      "cell_type": "markdown",
      "metadata": {
        "id": "vqHMfiwx6mox"
      },
      "source": [
        "### Ejercicio 10\n",
        "Luciano Márquez\n",
        "\n",
        "\n",
        "(Inserciones en una tabla de hashing con Linear Probing)\n",
        "\n",
        "Suponga que se tiene una tabla de hashing con Linear Probing, de tamaño 10, inicialmente vacía, con la función de hashing $h(x) = x \\bmod 10$ (por ejemplo, $h(64)=4$). Muestre en la siguiente tabla el resultado de insertar (a mano) la siguiente secuencia de llaves:\n",
        "\n",
        "```\n",
        "34, 59, 45, 27, 14, 22, 75, 25\n",
        "```"
      ]
    },
    {
      "cell_type": "markdown",
      "metadata": {
        "id": "1jTY2o5Z6mox"
      },
      "source": [
        "![EjercicioLinearProbing](https://github.com/ivansipiran/AED-Apuntes/blob/main/recursos/EjercicioLinearProbing.png?raw=1)\n",
        "\n",
        "Utilizaremos la siguiente función para ver si su respuesta está correcta:"
      ]
    },
    {
      "cell_type": "code",
      "execution_count": null,
      "metadata": {
        "collapsed": true,
        "id": "-rVKSZiX6moy"
      },
      "outputs": [],
      "source": [
        "def chequea_tabla(lista):\n",
        "    h=0\n",
        "    for x in lista:\n",
        "        h = (h*100+x) % 100000007\n",
        "    print(\"OK\" if h==60375958 else \"Error\")"
      ]
    },
    {
      "cell_type": "markdown",
      "metadata": {
        "id": "na1lDceW6moy"
      },
      "source": [
        "En el siguiente recuadro reemplace la lista de ceros por la lista de los elementos resultantes en la tabla. Si un casillero queda vacío, escriba un cero."
      ]
    },
    {
      "cell_type": "code",
      "execution_count": null,
      "metadata": {
        "id": "Ya1aW3uo6moy",
        "colab": {
          "base_uri": "https://localhost:8080/"
        },
        "outputId": "6b9c4342-3326-4757-c425-d72c998801ad"
      },
      "outputs": [
        {
          "output_type": "stream",
          "name": "stdout",
          "text": [
            "OK\n"
          ]
        }
      ],
      "source": [
        "chequea_tabla([25,0,22,0,34,45,14,27,75,59])"
      ]
    }
  ],
  "metadata": {
    "kernelspec": {
      "display_name": "Python 3",
      "language": "python",
      "name": "python3"
    },
    "language_info": {
      "codemirror_mode": {
        "name": "ipython",
        "version": 3
      },
      "file_extension": ".py",
      "mimetype": "text/x-python",
      "name": "python",
      "nbconvert_exporter": "python",
      "pygments_lexer": "ipython3",
      "version": "3.6.3"
    },
    "colab": {
      "provenance": []
    }
  },
  "nbformat": 4,
  "nbformat_minor": 0
}