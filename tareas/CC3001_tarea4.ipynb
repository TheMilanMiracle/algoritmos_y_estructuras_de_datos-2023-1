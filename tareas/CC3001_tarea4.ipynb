{
  "nbformat": 4,
  "nbformat_minor": 0,
  "metadata": {
    "kernelspec": {
      "display_name": "Python 3",
      "language": "python",
      "name": "python3"
    },
    "language_info": {
      "codemirror_mode": {
        "name": "ipython",
        "version": 3
      },
      "file_extension": ".py",
      "mimetype": "text/x-python",
      "name": "python",
      "nbconvert_exporter": "python",
      "pygments_lexer": "ipython3",
      "version": "3.7.1"
    },
    "colab": {
      "provenance": []
    }
  },
  "cells": [
    {
      "cell_type": "markdown",
      "metadata": {
        "id": "aHlFnqz2F2nU"
      },
      "source": [
        "# CC3001 Otoño 2023 Tarea 4\n",
        "# Generación de código con Árboles Binarios\n",
        "\n",
        "Luciano Márquez \\\n",
        "\n",
        "Profesores: Iván Sipirán / Nelson Baloian / Patricio Poblete\n"
      ]
    },
    {
      "cell_type": "markdown",
      "metadata": {
        "id": "-t8wjUcsF2nV"
      },
      "source": [
        "El objetivo de esta tarea es aprender sobre la manipulación de árboles que representan fórmulas. Hay muchas cosas que uno puede hacer con estos árboles, y en esta tarea nos enfocaremos en particular en algo que los compiladores hacen: la **generación de código** para evaluar fórmulas.\n",
        "\n",
        "Específicamente, el problema es: dada una fórmula, generar una secuencia de instrucciones elementales que la evalúen. Por ejemplo, dada una fórmula como\n",
        "\n",
        "```\n",
        "(a+b)*(c-d)\n",
        "```\n",
        "\n",
        "se podría generar código como el siguiente:\n",
        "\n",
        "```\n",
        "t1=a+b\n",
        "t2=c-d\n",
        "t3=t1*t2\n",
        "```\n",
        "\n",
        "Las instrucciones elementales son siempre de la forma ``ti=x op y``, donde ``ti`` es una variable temporal, ``x`` e ``y`` pueden ser variables o números, y ``op`` es un operador. Uno va creando variables ``t1``, ``t2``, ... a medida que las necesita, y la última de ellas es la que almacena el valor final de la fórmula.\n",
        "\n",
        "Las fórmulas pueden ser arbitrariamente complicadas, como por ejemplo la fórmula\n",
        "\n",
        "$$\n",
        "(2-p\\,q)\\left( \\frac{1}{n}+\\frac{1}{p+q}\\right)\n",
        "$$\n",
        "\n",
        "la cual escribimos como\n",
        "\n",
        "```\n",
        "(2-p*q)*(1/n+1/(p+q))\n",
        "```\n",
        "\n",
        "y cuyo código generado podría ser,\n",
        "\n",
        "```\n",
        "t1=p*q\n",
        "t2=2-t1\n",
        "t3=1/n\n",
        "t4=p+q\n",
        "t5=1/t4\n",
        "t6=t3+t5\n",
        "t7=t2*t6\n",
        "```\n",
        "\n",
        "El objetivo de esta tarea es que usted implemente una función que, dado un árbol ya construído, lo recorra para generar una secuencia de instrucciones elementales que lo evalúe.\n",
        "\n",
        "A continuación usted encontrará clases ``Nodoi``, ``Nodoe`` y ``Arbol`` que implementan árboles que representan fórmulas. La clase ``Arbol`` viene con un constructor que recibe un string como parámetro, el cual contiene una fórmula, y este constructor se encarga de transformar la fórmula de string a árbol, de modo que usted no necesita preocuparse de eso. Para simplificar, la fórmula solo podrá contener variables de una sola letra, números de un solo dígito, y sin espacios. Los operadores permitidos son solo suma, resta, multiplicación y división. No hay operador menos unario.\n",
        "\n",
        "Usted tienen que implementar para la clase ``Arbol`` una función ``codigo`` que al ser invocado genere una secuencia de instrucciones elementales para evaluar la fórmula representada por ese árbol, y la retorne en forma de una lista (de Python)."
      ]
    },
    {
      "cell_type": "code",
      "source": [
        "# Ejecutar esto para poder visualizar los árboles\n",
        "\n",
        "!pip install aed-utilities"
      ],
      "metadata": {
        "colab": {
          "base_uri": "https://localhost:8080/"
        },
        "id": "iz1412X9zRQw",
        "outputId": "35a7062e-49da-48bc-b78b-34122644e35c"
      },
      "execution_count": null,
      "outputs": [
        {
          "output_type": "stream",
          "name": "stdout",
          "text": [
            "Looking in indexes: https://pypi.org/simple, https://us-python.pkg.dev/colab-wheels/public/simple/\n",
            "Collecting aed-utilities\n",
            "  Downloading aed_utilities-0.5.6.tar.gz (4.3 kB)\n",
            "  Preparing metadata (setup.py) ... \u001b[?25l\u001b[?25hdone\n",
            "Collecting validators (from aed-utilities)\n",
            "  Downloading validators-0.20.0.tar.gz (30 kB)\n",
            "  Preparing metadata (setup.py) ... \u001b[?25l\u001b[?25hdone\n",
            "Requirement already satisfied: beautifulsoup4 in /usr/local/lib/python3.10/dist-packages (from aed-utilities) (4.11.2)\n",
            "Requirement already satisfied: soupsieve>1.2 in /usr/local/lib/python3.10/dist-packages (from beautifulsoup4->aed-utilities) (2.4.1)\n",
            "Requirement already satisfied: decorator>=3.4.0 in /usr/local/lib/python3.10/dist-packages (from validators->aed-utilities) (4.4.2)\n",
            "Building wheels for collected packages: aed-utilities, validators\n",
            "  Building wheel for aed-utilities (setup.py) ... \u001b[?25l\u001b[?25hdone\n",
            "  Created wheel for aed-utilities: filename=aed_utilities-0.5.6-py3-none-any.whl size=4542 sha256=b8406fc850712a23d121226772fe980f5e89f583f5a5fd6f4dedd1fd2ac3ebcb\n",
            "  Stored in directory: /root/.cache/pip/wheels/db/6d/39/cc766f956b1e504722228ad30c8154cd48f4470e7e24dcfd0e\n",
            "  Building wheel for validators (setup.py) ... \u001b[?25l\u001b[?25hdone\n",
            "  Created wheel for validators: filename=validators-0.20.0-py3-none-any.whl size=19579 sha256=df10a3b1d2038c677d073c941caa94fe38d78dce388e3b628c9d49ab824ab0a4\n",
            "  Stored in directory: /root/.cache/pip/wheels/f2/ed/dd/d3a556ad245ef9dc570c6bcd2f22886d17b0b408dd3bbb9ac3\n",
            "Successfully built aed-utilities validators\n",
            "Installing collected packages: validators, aed-utilities\n",
            "Successfully installed aed-utilities-0.5.6 validators-0.20.0\n"
          ]
        }
      ]
    },
    {
      "cell_type": "code",
      "metadata": {
        "id": "G7vsv1WvF2nX"
      },
      "source": [
        "import aed_utilities as aed\n",
        "\n",
        "class Nodoi:\n",
        "    def __init__(self, izq, info, der, t_like = False):\n",
        "        self.izq=izq\n",
        "        self.info=info\n",
        "        self.der=der\n",
        "        self.t_like = t_like\n",
        "\n",
        "    def tipo(self):\n",
        "        return \"i\"\n",
        "\n",
        "    def codigo(self):\n",
        "        global r\n",
        "        global t\n",
        "\n",
        "        if self.izq.t_like == True and self.der.t_like == True: #se llega a un nodo del tipo (a op b), (t_i op a), (a op t_i) o (t_i op t_i)\n",
        "          t += 1 #el contador de variables t_i aumenta pues se requiere una nueva\n",
        "          r.append(f\"t{t}={self.izq.info}{self.info}{self.der.info}\") #se agrega un nuevo término a r\n",
        "          self.info = f\"t{t}\" #se cambia la info del nodo a la variable que se acaba de crear para la proxima vez que se lea el nodo\n",
        "          self.t_like = True #se actualiza el valor para afirmar que ahora el nodo si es de la forma t_i\n",
        "        else: #el nodo actual no tienen ninguna de las formas anteriores\n",
        "          if self.izq.t_like == False: #el nodo izq es el problema\n",
        "            self.izq.codigo() #lo agregamos y hacemos de la forma que queremos\n",
        "          if self.der.t_like == False: #el nodo derecho es el problema\n",
        "            self.der.codigo() #lo agregamos y hacemos de la forma que queremos\n",
        "          self.codigo() #ya arreglado el problema probamos otra vez con el actual nodo\n",
        "\n",
        "\n",
        "class Nodoe:\n",
        "    def __init__(self, info, t_like = True):\n",
        "        self.info=info\n",
        "        self.t_like = t_like  #un nodo externo se le trata como nodo interior con info t_i\n",
        "\n",
        "    def tipo(self):\n",
        "        return \"e\"\n",
        "\n",
        "\n",
        "\n",
        "class Arbol:\n",
        "    def __init__(self,formula):\n",
        "        global k\n",
        "        global s\n",
        "        s=formula+\";\" # agregamos una marca de fin de la entrada\n",
        "        k=0 # indica próximo caracter por procesar\n",
        "        # definimos funciones para analizar la fórmula\n",
        "        def expresion(): # retorna puntero a la raíz de un árbol que representa a la fórmula s\n",
        "            global k\n",
        "            global s\n",
        "            a=factor()\n",
        "            while s[k]==\"+\" or s[k]==\"-\":\n",
        "                op=s[k]\n",
        "                k+=1\n",
        "                b=factor()\n",
        "                a=Nodoi(a,op,b)\n",
        "            return a\n",
        "        def factor():\n",
        "            global k\n",
        "            global s\n",
        "            a=termino()\n",
        "            while s[k]==\"*\" or s[k]==\"/\":\n",
        "                op=s[k]\n",
        "                k+=1\n",
        "                b=termino()\n",
        "                a=Nodoi(a,op,b)\n",
        "            return a\n",
        "        def termino(): # posible constante, variable o formula parentizada\n",
        "            global k\n",
        "            global s\n",
        "            if s[k].isalpha() or s[k].isdigit():\n",
        "                a=Nodoe(s[k])\n",
        "                k+=1\n",
        "                return a\n",
        "            if s[k]==\"(\": # fórmula parentizada\n",
        "                k+=1\n",
        "                a=expresion()\n",
        "                if s[k]!=\")\":\n",
        "                    print(\"Error: Falta cierra paréntesis: \"+formula[k:])\n",
        "                    assert False\n",
        "                k+=1\n",
        "                return a\n",
        "            print(\"Error: Falta variable, número o abre paréntesis: \"+formula[k:])\n",
        "            assert False\n",
        "\n",
        "        a=expresion()\n",
        "        if s[k]!=\";\":\n",
        "            print(\"Error: Basura al final de la fórmula: \"+formula[k:])\n",
        "            assert False\n",
        "        self.raiz=a\n",
        "\n",
        "    def codigo(self):\n",
        "        global r #lista con la respuesta\n",
        "        global t #cuenta de cuantas t(ecuaciones) hay\n",
        "\n",
        "        r = []\n",
        "        t = 0\n",
        "\n",
        "        n0 = self.raiz\n",
        "\n",
        "        if n0.tipo() == \"e\": #caso el arbol es un nodo externo de la forma (a)\n",
        "          r = [f\"t1={n0.info}\"]\n",
        "        elif n0.der.tipo() == \"e\" and n0.izq.tipo() == \"e\": #caso el arbol es de solo un nodo interno\n",
        "          r = [f\"t1={n0.izq.info}{n0.info}{n0.der.info}\"]\n",
        "        else:\n",
        "          n0.codigo() #se ejecuta codigo desde la raiz\n",
        "\n",
        "        return r\n",
        "\n",
        "\n",
        "    def dibujar(self):\n",
        "      btd = aed.BinaryTreeDrawer(fieldData=\"info\", fieldLeft=\"izq\", fieldRight=\"der\", classNone=Nodoe)\n",
        "      btd.draw_tree(self, \"raiz\")"
      ],
      "execution_count": null,
      "outputs": []
    },
    {
      "cell_type": "markdown",
      "metadata": {
        "id": "PibRJ0ZFF2nb"
      },
      "source": [
        "A continuación probamos esta funcionalidad con varias fórmulas de ejemplo. Para ver si el árbol fue construido correctamente, lo dibujamos."
      ]
    },
    {
      "cell_type": "code",
      "metadata": {
        "id": "7_7E3OWuF2nd",
        "outputId": "1f304561-4bb8-4e41-e223-9ebd6a5155eb",
        "colab": {
          "base_uri": "https://localhost:8080/",
          "height": 194
        }
      },
      "source": [
        "Arbol(\"a*b*c\").dibujar()"
      ],
      "execution_count": null,
      "outputs": [
        {
          "output_type": "display_data",
          "data": {
            "text/plain": [
              "<IPython.core.display.SVG object>"
            ],
            "image/svg+xml": "<svg xmlns=\"http://www.w3.org/2000/svg\" xmlns:xlink=\"http://www.w3.org/1999/xlink\" width=\"178pt\" height=\"130pt\" viewBox=\"0.00 0.00 178.40 130.40\">\n<g id=\"graph0\" class=\"graph\" transform=\"scale(1 1) rotate(0) translate(4 126.4)\">\n<title>Arbol</title>\n<polygon fill=\"white\" stroke=\"transparent\" points=\"-4,4 -4,-126.4 174.4,-126.4 174.4,4 -4,4\"/>\n<!-- node0 -->\n<g id=\"node1\" class=\"node\">\n<title>node0</title>\n<polygon fill=\"none\" stroke=\"black\" points=\"36,-36 0,-36 0,0 36,0 36,-36\"/>\n<text text-anchor=\"middle\" x=\"18\" y=\"-14.3\" font-family=\"Times,serif\" font-size=\"14.00\">a</text>\n</g>\n<!-- node2 -->\n<g id=\"node2\" class=\"node\">\n<title>node2</title>\n<ellipse fill=\"none\" stroke=\"black\" cx=\"51.6\" cy=\"-61.2\" rx=\"18\" ry=\"18\"/>\n<text text-anchor=\"middle\" x=\"51.6\" y=\"-57.5\" font-family=\"Times,serif\" font-size=\"14.00\">*</text>\n</g>\n<!-- node2&#45;&#45;node0 -->\n<g id=\"edge2\" class=\"edge\">\n<title>node2--node0</title>\n<path fill=\"none\" stroke=\"black\" d=\"M40.22,-46.57C37.64,-43.25 34.85,-39.67 32.16,-36.21\"/>\n</g>\n<!-- node1 -->\n<g id=\"node3\" class=\"node\">\n<title>node1</title>\n<polygon fill=\"none\" stroke=\"black\" points=\"103.2,-36 67.2,-36 67.2,0 103.2,0 103.2,-36\"/>\n<text text-anchor=\"middle\" x=\"85.2\" y=\"-14.3\" font-family=\"Times,serif\" font-size=\"14.00\">b</text>\n</g>\n<!-- node2&#45;&#45;node1 -->\n<g id=\"edge3\" class=\"edge\">\n<title>node2--node1</title>\n<path fill=\"none\" stroke=\"black\" d=\"M62.98,-46.57C65.56,-43.25 68.35,-39.67 71.04,-36.21\"/>\n</g>\n<!-- node4 -->\n<g id=\"node4\" class=\"node\">\n<title>node4</title>\n<ellipse fill=\"none\" stroke=\"black\" cx=\"118.8\" cy=\"-104.4\" rx=\"18\" ry=\"18\"/>\n<text text-anchor=\"middle\" x=\"118.8\" y=\"-100.7\" font-family=\"Times,serif\" font-size=\"14.00\">*</text>\n</g>\n<!-- node4&#45;&#45;node2 -->\n<g id=\"edge1\" class=\"edge\">\n<title>node4--node2</title>\n<path fill=\"none\" stroke=\"black\" d=\"M103.55,-94.6C92.55,-87.53 77.77,-78.02 66.79,-70.96\"/>\n</g>\n<!-- node3 -->\n<g id=\"node5\" class=\"node\">\n<title>node3</title>\n<polygon fill=\"none\" stroke=\"black\" points=\"170.4,-79.2 134.4,-79.2 134.4,-43.2 170.4,-43.2 170.4,-79.2\"/>\n<text text-anchor=\"middle\" x=\"152.4\" y=\"-57.5\" font-family=\"Times,serif\" font-size=\"14.00\">c</text>\n</g>\n<!-- node4&#45;&#45;node3 -->\n<g id=\"edge4\" class=\"edge\">\n<title>node4--node3</title>\n<path fill=\"none\" stroke=\"black\" d=\"M130.18,-89.77C132.76,-86.45 135.55,-82.87 138.24,-79.41\"/>\n</g>\n</g>\n</svg>"
          },
          "metadata": {}
        }
      ]
    },
    {
      "cell_type": "code",
      "metadata": {
        "id": "mVMg8ye2F2nj",
        "outputId": "096ff3a4-1e4e-4c56-a959-acdf3be52844",
        "colab": {
          "base_uri": "https://localhost:8080/",
          "height": 194
        }
      },
      "source": [
        "Arbol(\"(a+b)*(c-d)\").dibujar()"
      ],
      "execution_count": null,
      "outputs": [
        {
          "output_type": "display_data",
          "data": {
            "text/plain": [
              "<IPython.core.display.SVG object>"
            ],
            "image/svg+xml": "<svg xmlns=\"http://www.w3.org/2000/svg\" xmlns:xlink=\"http://www.w3.org/1999/xlink\" width=\"246pt\" height=\"130pt\" viewBox=\"0.00 0.00 245.60 130.40\">\n<g id=\"graph0\" class=\"graph\" transform=\"scale(1 1) rotate(0) translate(4 126.4)\">\n<title>Arbol</title>\n<polygon fill=\"white\" stroke=\"transparent\" points=\"-4,4 -4,-126.4 241.6,-126.4 241.6,4 -4,4\"/>\n<!-- node0 -->\n<g id=\"node1\" class=\"node\">\n<title>node0</title>\n<polygon fill=\"none\" stroke=\"black\" points=\"36,-36 0,-36 0,0 36,0 36,-36\"/>\n<text text-anchor=\"middle\" x=\"18\" y=\"-14.3\" font-family=\"Times,serif\" font-size=\"14.00\">a</text>\n</g>\n<!-- node2 -->\n<g id=\"node2\" class=\"node\">\n<title>node2</title>\n<ellipse fill=\"none\" stroke=\"black\" cx=\"51.6\" cy=\"-61.2\" rx=\"18\" ry=\"18\"/>\n<text text-anchor=\"middle\" x=\"51.6\" y=\"-57.5\" font-family=\"Times,serif\" font-size=\"14.00\">+</text>\n</g>\n<!-- node2&#45;&#45;node0 -->\n<g id=\"edge2\" class=\"edge\">\n<title>node2--node0</title>\n<path fill=\"none\" stroke=\"black\" d=\"M40.22,-46.57C37.64,-43.25 34.85,-39.67 32.16,-36.21\"/>\n</g>\n<!-- node1 -->\n<g id=\"node3\" class=\"node\">\n<title>node1</title>\n<polygon fill=\"none\" stroke=\"black\" points=\"103.2,-36 67.2,-36 67.2,0 103.2,0 103.2,-36\"/>\n<text text-anchor=\"middle\" x=\"85.2\" y=\"-14.3\" font-family=\"Times,serif\" font-size=\"14.00\">b</text>\n</g>\n<!-- node2&#45;&#45;node1 -->\n<g id=\"edge3\" class=\"edge\">\n<title>node2--node1</title>\n<path fill=\"none\" stroke=\"black\" d=\"M62.98,-46.57C65.56,-43.25 68.35,-39.67 71.04,-36.21\"/>\n</g>\n<!-- node6 -->\n<g id=\"node4\" class=\"node\">\n<title>node6</title>\n<ellipse fill=\"none\" stroke=\"black\" cx=\"118.8\" cy=\"-104.4\" rx=\"18\" ry=\"18\"/>\n<text text-anchor=\"middle\" x=\"118.8\" y=\"-100.7\" font-family=\"Times,serif\" font-size=\"14.00\">*</text>\n</g>\n<!-- node6&#45;&#45;node2 -->\n<g id=\"edge1\" class=\"edge\">\n<title>node6--node2</title>\n<path fill=\"none\" stroke=\"black\" d=\"M103.55,-94.6C92.55,-87.53 77.77,-78.02 66.79,-70.96\"/>\n</g>\n<!-- node5 -->\n<g id=\"node6\" class=\"node\">\n<title>node5</title>\n<ellipse fill=\"none\" stroke=\"black\" cx=\"186\" cy=\"-61.2\" rx=\"18\" ry=\"18\"/>\n<text text-anchor=\"middle\" x=\"186\" y=\"-57.5\" font-family=\"Times,serif\" font-size=\"14.00\">-</text>\n</g>\n<!-- node6&#45;&#45;node5 -->\n<g id=\"edge4\" class=\"edge\">\n<title>node6--node5</title>\n<path fill=\"none\" stroke=\"black\" d=\"M134.05,-94.6C145.05,-87.53 159.83,-78.02 170.81,-70.96\"/>\n</g>\n<!-- node3 -->\n<g id=\"node5\" class=\"node\">\n<title>node3</title>\n<polygon fill=\"none\" stroke=\"black\" points=\"170.4,-36 134.4,-36 134.4,0 170.4,0 170.4,-36\"/>\n<text text-anchor=\"middle\" x=\"152.4\" y=\"-14.3\" font-family=\"Times,serif\" font-size=\"14.00\">c</text>\n</g>\n<!-- node5&#45;&#45;node3 -->\n<g id=\"edge5\" class=\"edge\">\n<title>node5--node3</title>\n<path fill=\"none\" stroke=\"black\" d=\"M174.62,-46.57C172.04,-43.25 169.25,-39.67 166.56,-36.21\"/>\n</g>\n<!-- node4 -->\n<g id=\"node7\" class=\"node\">\n<title>node4</title>\n<polygon fill=\"none\" stroke=\"black\" points=\"237.6,-36 201.6,-36 201.6,0 237.6,0 237.6,-36\"/>\n<text text-anchor=\"middle\" x=\"219.6\" y=\"-14.3\" font-family=\"Times,serif\" font-size=\"14.00\">d</text>\n</g>\n<!-- node5&#45;&#45;node4 -->\n<g id=\"edge6\" class=\"edge\">\n<title>node5--node4</title>\n<path fill=\"none\" stroke=\"black\" d=\"M197.38,-46.57C199.96,-43.25 202.75,-39.67 205.44,-36.21\"/>\n</g>\n</g>\n</svg>"
          },
          "metadata": {}
        }
      ]
    },
    {
      "cell_type": "code",
      "metadata": {
        "id": "F4DP46cFF2nn",
        "outputId": "fd935ec8-5a2b-49bb-a647-92a75633a227",
        "colab": {
          "base_uri": "https://localhost:8080/",
          "height": 310
        }
      },
      "source": [
        "Arbol(\"(2-p*q)*(1/n+1/(p+q))\").dibujar()"
      ],
      "execution_count": null,
      "outputs": [
        {
          "output_type": "display_data",
          "data": {
            "text/plain": [
              "<IPython.core.display.SVG object>"
            ],
            "image/svg+xml": "<svg xmlns=\"http://www.w3.org/2000/svg\" xmlns:xlink=\"http://www.w3.org/1999/xlink\" width=\"514pt\" height=\"217pt\" viewBox=\"0.00 0.00 514.40 216.80\">\n<g id=\"graph0\" class=\"graph\" transform=\"scale(1 1) rotate(0) translate(4 212.8)\">\n<title>Arbol</title>\n<polygon fill=\"white\" stroke=\"transparent\" points=\"-4,4 -4,-212.8 510.4,-212.8 510.4,4 -4,4\"/>\n<!-- node0 -->\n<g id=\"node1\" class=\"node\">\n<title>node0</title>\n<polygon fill=\"none\" stroke=\"black\" points=\"36,-122.4 0,-122.4 0,-86.4 36,-86.4 36,-122.4\"/>\n<text text-anchor=\"middle\" x=\"18\" y=\"-100.7\" font-family=\"Times,serif\" font-size=\"14.00\">2</text>\n</g>\n<!-- node4 -->\n<g id=\"node2\" class=\"node\">\n<title>node4</title>\n<ellipse fill=\"none\" stroke=\"black\" cx=\"51.6\" cy=\"-147.6\" rx=\"18\" ry=\"18\"/>\n<text text-anchor=\"middle\" x=\"51.6\" y=\"-143.9\" font-family=\"Times,serif\" font-size=\"14.00\">-</text>\n</g>\n<!-- node4&#45;&#45;node0 -->\n<g id=\"edge2\" class=\"edge\">\n<title>node4--node0</title>\n<path fill=\"none\" stroke=\"black\" d=\"M40.22,-132.97C37.64,-129.65 34.85,-126.07 32.16,-122.61\"/>\n</g>\n<!-- node3 -->\n<g id=\"node4\" class=\"node\">\n<title>node3</title>\n<ellipse fill=\"none\" stroke=\"black\" cx=\"118.8\" cy=\"-104.4\" rx=\"18\" ry=\"18\"/>\n<text text-anchor=\"middle\" x=\"118.8\" y=\"-100.7\" font-family=\"Times,serif\" font-size=\"14.00\">*</text>\n</g>\n<!-- node4&#45;&#45;node3 -->\n<g id=\"edge3\" class=\"edge\">\n<title>node4--node3</title>\n<path fill=\"none\" stroke=\"black\" d=\"M66.85,-137.8C77.85,-130.73 92.63,-121.22 103.61,-114.16\"/>\n</g>\n<!-- node1 -->\n<g id=\"node3\" class=\"node\">\n<title>node1</title>\n<polygon fill=\"none\" stroke=\"black\" points=\"103.2,-79.2 67.2,-79.2 67.2,-43.2 103.2,-43.2 103.2,-79.2\"/>\n<text text-anchor=\"middle\" x=\"85.2\" y=\"-57.5\" font-family=\"Times,serif\" font-size=\"14.00\">p</text>\n</g>\n<!-- node3&#45;&#45;node1 -->\n<g id=\"edge4\" class=\"edge\">\n<title>node3--node1</title>\n<path fill=\"none\" stroke=\"black\" d=\"M107.42,-89.77C104.84,-86.45 102.05,-82.87 99.36,-79.41\"/>\n</g>\n<!-- node2 -->\n<g id=\"node5\" class=\"node\">\n<title>node2</title>\n<polygon fill=\"none\" stroke=\"black\" points=\"170.4,-79.2 134.4,-79.2 134.4,-43.2 170.4,-43.2 170.4,-79.2\"/>\n<text text-anchor=\"middle\" x=\"152.4\" y=\"-57.5\" font-family=\"Times,serif\" font-size=\"14.00\">q</text>\n</g>\n<!-- node3&#45;&#45;node2 -->\n<g id=\"edge5\" class=\"edge\">\n<title>node3--node2</title>\n<path fill=\"none\" stroke=\"black\" d=\"M130.18,-89.77C132.76,-86.45 135.55,-82.87 138.24,-79.41\"/>\n</g>\n<!-- node14 -->\n<g id=\"node6\" class=\"node\">\n<title>node14</title>\n<ellipse fill=\"none\" stroke=\"black\" cx=\"186\" cy=\"-190.8\" rx=\"18\" ry=\"18\"/>\n<text text-anchor=\"middle\" x=\"186\" y=\"-187.1\" font-family=\"Times,serif\" font-size=\"14.00\">*</text>\n</g>\n<!-- node14&#45;&#45;node4 -->\n<g id=\"edge1\" class=\"edge\">\n<title>node14--node4</title>\n<path fill=\"none\" stroke=\"black\" d=\"M168.7,-185.24C142.9,-176.95 94.6,-161.42 68.83,-153.14\"/>\n</g>\n<!-- node13 -->\n<g id=\"node10\" class=\"node\">\n<title>node13</title>\n<ellipse fill=\"none\" stroke=\"black\" cx=\"320.4\" cy=\"-147.6\" rx=\"18\" ry=\"18\"/>\n<text text-anchor=\"middle\" x=\"320.4\" y=\"-143.9\" font-family=\"Times,serif\" font-size=\"14.00\">+</text>\n</g>\n<!-- node14&#45;&#45;node13 -->\n<g id=\"edge6\" class=\"edge\">\n<title>node14--node13</title>\n<path fill=\"none\" stroke=\"black\" d=\"M203.3,-185.24C229.1,-176.95 277.4,-161.42 303.17,-153.14\"/>\n</g>\n<!-- node5 -->\n<g id=\"node7\" class=\"node\">\n<title>node5</title>\n<polygon fill=\"none\" stroke=\"black\" points=\"237.6,-79.2 201.6,-79.2 201.6,-43.2 237.6,-43.2 237.6,-79.2\"/>\n<text text-anchor=\"middle\" x=\"219.6\" y=\"-57.5\" font-family=\"Times,serif\" font-size=\"14.00\">1</text>\n</g>\n<!-- node7 -->\n<g id=\"node8\" class=\"node\">\n<title>node7</title>\n<ellipse fill=\"none\" stroke=\"black\" cx=\"253.2\" cy=\"-104.4\" rx=\"18\" ry=\"18\"/>\n<text text-anchor=\"middle\" x=\"253.2\" y=\"-100.7\" font-family=\"Times,serif\" font-size=\"14.00\">/</text>\n</g>\n<!-- node7&#45;&#45;node5 -->\n<g id=\"edge8\" class=\"edge\">\n<title>node7--node5</title>\n<path fill=\"none\" stroke=\"black\" d=\"M241.82,-89.77C239.24,-86.45 236.45,-82.87 233.76,-79.41\"/>\n</g>\n<!-- node6 -->\n<g id=\"node9\" class=\"node\">\n<title>node6</title>\n<polygon fill=\"none\" stroke=\"black\" points=\"304.8,-79.2 268.8,-79.2 268.8,-43.2 304.8,-43.2 304.8,-79.2\"/>\n<text text-anchor=\"middle\" x=\"286.8\" y=\"-57.5\" font-family=\"Times,serif\" font-size=\"14.00\">n</text>\n</g>\n<!-- node7&#45;&#45;node6 -->\n<g id=\"edge9\" class=\"edge\">\n<title>node7--node6</title>\n<path fill=\"none\" stroke=\"black\" d=\"M264.58,-89.77C267.16,-86.45 269.95,-82.87 272.64,-79.41\"/>\n</g>\n<!-- node13&#45;&#45;node7 -->\n<g id=\"edge7\" class=\"edge\">\n<title>node13--node7</title>\n<path fill=\"none\" stroke=\"black\" d=\"M305.15,-137.8C294.15,-130.73 279.37,-121.22 268.39,-114.16\"/>\n</g>\n<!-- node12 -->\n<g id=\"node12\" class=\"node\">\n<title>node12</title>\n<ellipse fill=\"none\" stroke=\"black\" cx=\"387.6\" cy=\"-104.4\" rx=\"18\" ry=\"18\"/>\n<text text-anchor=\"middle\" x=\"387.6\" y=\"-100.7\" font-family=\"Times,serif\" font-size=\"14.00\">/</text>\n</g>\n<!-- node13&#45;&#45;node12 -->\n<g id=\"edge10\" class=\"edge\">\n<title>node13--node12</title>\n<path fill=\"none\" stroke=\"black\" d=\"M335.65,-137.8C346.65,-130.73 361.43,-121.22 372.41,-114.16\"/>\n</g>\n<!-- node8 -->\n<g id=\"node11\" class=\"node\">\n<title>node8</title>\n<polygon fill=\"none\" stroke=\"black\" points=\"372,-79.2 336,-79.2 336,-43.2 372,-43.2 372,-79.2\"/>\n<text text-anchor=\"middle\" x=\"354\" y=\"-57.5\" font-family=\"Times,serif\" font-size=\"14.00\">1</text>\n</g>\n<!-- node12&#45;&#45;node8 -->\n<g id=\"edge11\" class=\"edge\">\n<title>node12--node8</title>\n<path fill=\"none\" stroke=\"black\" d=\"M376.22,-89.77C373.64,-86.45 370.85,-82.87 368.16,-79.41\"/>\n</g>\n<!-- node11 -->\n<g id=\"node14\" class=\"node\">\n<title>node11</title>\n<ellipse fill=\"none\" stroke=\"black\" cx=\"454.8\" cy=\"-61.2\" rx=\"18\" ry=\"18\"/>\n<text text-anchor=\"middle\" x=\"454.8\" y=\"-57.5\" font-family=\"Times,serif\" font-size=\"14.00\">+</text>\n</g>\n<!-- node12&#45;&#45;node11 -->\n<g id=\"edge12\" class=\"edge\">\n<title>node12--node11</title>\n<path fill=\"none\" stroke=\"black\" d=\"M402.85,-94.6C413.85,-87.53 428.63,-78.02 439.61,-70.96\"/>\n</g>\n<!-- node9 -->\n<g id=\"node13\" class=\"node\">\n<title>node9</title>\n<polygon fill=\"none\" stroke=\"black\" points=\"439.2,-36 403.2,-36 403.2,0 439.2,0 439.2,-36\"/>\n<text text-anchor=\"middle\" x=\"421.2\" y=\"-14.3\" font-family=\"Times,serif\" font-size=\"14.00\">p</text>\n</g>\n<!-- node11&#45;&#45;node9 -->\n<g id=\"edge13\" class=\"edge\">\n<title>node11--node9</title>\n<path fill=\"none\" stroke=\"black\" d=\"M443.42,-46.57C440.84,-43.25 438.05,-39.67 435.36,-36.21\"/>\n</g>\n<!-- node10 -->\n<g id=\"node15\" class=\"node\">\n<title>node10</title>\n<polygon fill=\"none\" stroke=\"black\" points=\"506.4,-36 470.4,-36 470.4,0 506.4,0 506.4,-36\"/>\n<text text-anchor=\"middle\" x=\"488.4\" y=\"-14.3\" font-family=\"Times,serif\" font-size=\"14.00\">q</text>\n</g>\n<!-- node11&#45;&#45;node10 -->\n<g id=\"edge14\" class=\"edge\">\n<title>node11--node10</title>\n<path fill=\"none\" stroke=\"black\" d=\"M466.18,-46.57C468.76,-43.25 471.55,-39.67 474.24,-36.21\"/>\n</g>\n</g>\n</svg>"
          },
          "metadata": {}
        }
      ]
    },
    {
      "cell_type": "markdown",
      "metadata": {
        "id": "UzH5VKIFF2ns"
      },
      "source": [
        "## Resultados"
      ]
    },
    {
      "cell_type": "markdown",
      "metadata": {
        "id": "_dKOs-tLF2ns"
      },
      "source": [
        "En esta sección probamos la generación de código que usted tiene que escribir. Mientras usted no sustituya la función ``codigo`` provisoria que viene en la definición de la clase, va a aparecer la lista que generamos ahí. Primero vamos a definir una función ``probar`` que genera el código a partir de una fórmula dada e imprime el resultado:"
      ]
    },
    {
      "cell_type": "code",
      "metadata": {
        "id": "nN9p3gO-F2nt"
      },
      "source": [
        "def probar(formula):\n",
        "    a=Arbol(formula)\n",
        "    a.dibujar()#agregamos el dibujo del arbol para facilitar la comprobación con apoyo visual\n",
        "    for x in a.codigo():\n",
        "        print(x)"
      ],
      "execution_count": null,
      "outputs": []
    },
    {
      "cell_type": "markdown",
      "metadata": {
        "id": "puLezujdF2nx"
      },
      "source": [
        "A continuación probamos con varias fórmulas. Además de las fórmulas dadas, usted tiene que agregar tres ejemplos adicionales."
      ]
    },
    {
      "cell_type": "code",
      "metadata": {
        "id": "f9hCpaCgF2ny",
        "outputId": "82ba7ce9-6f8d-4aac-da7e-133782cf158b",
        "colab": {
          "base_uri": "https://localhost:8080/",
          "height": 155
        }
      },
      "source": [
        "probar(\"a+1\")"
      ],
      "execution_count": null,
      "outputs": [
        {
          "output_type": "display_data",
          "data": {
            "text/plain": [
              "<IPython.core.display.SVG object>"
            ],
            "image/svg+xml": "<svg xmlns=\"http://www.w3.org/2000/svg\" xmlns:xlink=\"http://www.w3.org/1999/xlink\" width=\"111pt\" height=\"87pt\" viewBox=\"0.00 0.00 111.20 87.20\">\n<g id=\"graph0\" class=\"graph\" transform=\"scale(1 1) rotate(0) translate(4 83.2)\">\n<title>Arbol</title>\n<polygon fill=\"white\" stroke=\"transparent\" points=\"-4,4 -4,-83.2 107.2,-83.2 107.2,4 -4,4\"/>\n<!-- node0 -->\n<g id=\"node1\" class=\"node\">\n<title>node0</title>\n<polygon fill=\"none\" stroke=\"black\" points=\"36,-36 0,-36 0,0 36,0 36,-36\"/>\n<text text-anchor=\"middle\" x=\"18\" y=\"-14.3\" font-family=\"Times,serif\" font-size=\"14.00\">a</text>\n</g>\n<!-- node2 -->\n<g id=\"node2\" class=\"node\">\n<title>node2</title>\n<ellipse fill=\"none\" stroke=\"black\" cx=\"51.6\" cy=\"-61.2\" rx=\"18\" ry=\"18\"/>\n<text text-anchor=\"middle\" x=\"51.6\" y=\"-57.5\" font-family=\"Times,serif\" font-size=\"14.00\">+</text>\n</g>\n<!-- node2&#45;&#45;node0 -->\n<g id=\"edge1\" class=\"edge\">\n<title>node2--node0</title>\n<path fill=\"none\" stroke=\"black\" d=\"M40.22,-46.57C37.64,-43.25 34.85,-39.67 32.16,-36.21\"/>\n</g>\n<!-- node1 -->\n<g id=\"node3\" class=\"node\">\n<title>node1</title>\n<polygon fill=\"none\" stroke=\"black\" points=\"103.2,-36 67.2,-36 67.2,0 103.2,0 103.2,-36\"/>\n<text text-anchor=\"middle\" x=\"85.2\" y=\"-14.3\" font-family=\"Times,serif\" font-size=\"14.00\">1</text>\n</g>\n<!-- node2&#45;&#45;node1 -->\n<g id=\"edge2\" class=\"edge\">\n<title>node2--node1</title>\n<path fill=\"none\" stroke=\"black\" d=\"M62.98,-46.57C65.56,-43.25 68.35,-39.67 71.04,-36.21\"/>\n</g>\n</g>\n</svg>"
          },
          "metadata": {}
        },
        {
          "output_type": "stream",
          "name": "stdout",
          "text": [
            "t1=a+1\n"
          ]
        }
      ]
    },
    {
      "cell_type": "code",
      "metadata": {
        "id": "vX6V_XTrF2n7",
        "outputId": "8c608bd8-793d-400d-97bf-c1978b73b627",
        "colab": {
          "base_uri": "https://localhost:8080/",
          "height": 249
        }
      },
      "source": [
        "probar(\"(a+b)*(c-d)\")"
      ],
      "execution_count": null,
      "outputs": [
        {
          "output_type": "display_data",
          "data": {
            "text/plain": [
              "<IPython.core.display.SVG object>"
            ],
            "image/svg+xml": "<svg xmlns=\"http://www.w3.org/2000/svg\" xmlns:xlink=\"http://www.w3.org/1999/xlink\" width=\"246pt\" height=\"130pt\" viewBox=\"0.00 0.00 245.60 130.40\">\n<g id=\"graph0\" class=\"graph\" transform=\"scale(1 1) rotate(0) translate(4 126.4)\">\n<title>Arbol</title>\n<polygon fill=\"white\" stroke=\"transparent\" points=\"-4,4 -4,-126.4 241.6,-126.4 241.6,4 -4,4\"/>\n<!-- node0 -->\n<g id=\"node1\" class=\"node\">\n<title>node0</title>\n<polygon fill=\"none\" stroke=\"black\" points=\"36,-36 0,-36 0,0 36,0 36,-36\"/>\n<text text-anchor=\"middle\" x=\"18\" y=\"-14.3\" font-family=\"Times,serif\" font-size=\"14.00\">a</text>\n</g>\n<!-- node2 -->\n<g id=\"node2\" class=\"node\">\n<title>node2</title>\n<ellipse fill=\"none\" stroke=\"black\" cx=\"51.6\" cy=\"-61.2\" rx=\"18\" ry=\"18\"/>\n<text text-anchor=\"middle\" x=\"51.6\" y=\"-57.5\" font-family=\"Times,serif\" font-size=\"14.00\">+</text>\n</g>\n<!-- node2&#45;&#45;node0 -->\n<g id=\"edge2\" class=\"edge\">\n<title>node2--node0</title>\n<path fill=\"none\" stroke=\"black\" d=\"M40.22,-46.57C37.64,-43.25 34.85,-39.67 32.16,-36.21\"/>\n</g>\n<!-- node1 -->\n<g id=\"node3\" class=\"node\">\n<title>node1</title>\n<polygon fill=\"none\" stroke=\"black\" points=\"103.2,-36 67.2,-36 67.2,0 103.2,0 103.2,-36\"/>\n<text text-anchor=\"middle\" x=\"85.2\" y=\"-14.3\" font-family=\"Times,serif\" font-size=\"14.00\">b</text>\n</g>\n<!-- node2&#45;&#45;node1 -->\n<g id=\"edge3\" class=\"edge\">\n<title>node2--node1</title>\n<path fill=\"none\" stroke=\"black\" d=\"M62.98,-46.57C65.56,-43.25 68.35,-39.67 71.04,-36.21\"/>\n</g>\n<!-- node6 -->\n<g id=\"node4\" class=\"node\">\n<title>node6</title>\n<ellipse fill=\"none\" stroke=\"black\" cx=\"118.8\" cy=\"-104.4\" rx=\"18\" ry=\"18\"/>\n<text text-anchor=\"middle\" x=\"118.8\" y=\"-100.7\" font-family=\"Times,serif\" font-size=\"14.00\">*</text>\n</g>\n<!-- node6&#45;&#45;node2 -->\n<g id=\"edge1\" class=\"edge\">\n<title>node6--node2</title>\n<path fill=\"none\" stroke=\"black\" d=\"M103.55,-94.6C92.55,-87.53 77.77,-78.02 66.79,-70.96\"/>\n</g>\n<!-- node5 -->\n<g id=\"node6\" class=\"node\">\n<title>node5</title>\n<ellipse fill=\"none\" stroke=\"black\" cx=\"186\" cy=\"-61.2\" rx=\"18\" ry=\"18\"/>\n<text text-anchor=\"middle\" x=\"186\" y=\"-57.5\" font-family=\"Times,serif\" font-size=\"14.00\">-</text>\n</g>\n<!-- node6&#45;&#45;node5 -->\n<g id=\"edge4\" class=\"edge\">\n<title>node6--node5</title>\n<path fill=\"none\" stroke=\"black\" d=\"M134.05,-94.6C145.05,-87.53 159.83,-78.02 170.81,-70.96\"/>\n</g>\n<!-- node3 -->\n<g id=\"node5\" class=\"node\">\n<title>node3</title>\n<polygon fill=\"none\" stroke=\"black\" points=\"170.4,-36 134.4,-36 134.4,0 170.4,0 170.4,-36\"/>\n<text text-anchor=\"middle\" x=\"152.4\" y=\"-14.3\" font-family=\"Times,serif\" font-size=\"14.00\">c</text>\n</g>\n<!-- node5&#45;&#45;node3 -->\n<g id=\"edge5\" class=\"edge\">\n<title>node5--node3</title>\n<path fill=\"none\" stroke=\"black\" d=\"M174.62,-46.57C172.04,-43.25 169.25,-39.67 166.56,-36.21\"/>\n</g>\n<!-- node4 -->\n<g id=\"node7\" class=\"node\">\n<title>node4</title>\n<polygon fill=\"none\" stroke=\"black\" points=\"237.6,-36 201.6,-36 201.6,0 237.6,0 237.6,-36\"/>\n<text text-anchor=\"middle\" x=\"219.6\" y=\"-14.3\" font-family=\"Times,serif\" font-size=\"14.00\">d</text>\n</g>\n<!-- node5&#45;&#45;node4 -->\n<g id=\"edge6\" class=\"edge\">\n<title>node5--node4</title>\n<path fill=\"none\" stroke=\"black\" d=\"M197.38,-46.57C199.96,-43.25 202.75,-39.67 205.44,-36.21\"/>\n</g>\n</g>\n</svg>"
          },
          "metadata": {}
        },
        {
          "output_type": "stream",
          "name": "stdout",
          "text": [
            "t1=a+b\n",
            "t2=c-d\n",
            "t3=t1*t2\n"
          ]
        }
      ]
    },
    {
      "cell_type": "code",
      "metadata": {
        "id": "taeKmQj1F2n_",
        "outputId": "b595a2c0-ad93-4c0f-e41e-658e7c187108",
        "colab": {
          "base_uri": "https://localhost:8080/",
          "height": 438
        }
      },
      "source": [
        "probar(\"(2-p*q)*(1/n+1/(p+q))\")"
      ],
      "execution_count": null,
      "outputs": [
        {
          "output_type": "display_data",
          "data": {
            "text/plain": [
              "<IPython.core.display.SVG object>"
            ],
            "image/svg+xml": "<svg xmlns=\"http://www.w3.org/2000/svg\" xmlns:xlink=\"http://www.w3.org/1999/xlink\" width=\"514pt\" height=\"217pt\" viewBox=\"0.00 0.00 514.40 216.80\">\n<g id=\"graph0\" class=\"graph\" transform=\"scale(1 1) rotate(0) translate(4 212.8)\">\n<title>Arbol</title>\n<polygon fill=\"white\" stroke=\"transparent\" points=\"-4,4 -4,-212.8 510.4,-212.8 510.4,4 -4,4\"/>\n<!-- node0 -->\n<g id=\"node1\" class=\"node\">\n<title>node0</title>\n<polygon fill=\"none\" stroke=\"black\" points=\"36,-122.4 0,-122.4 0,-86.4 36,-86.4 36,-122.4\"/>\n<text text-anchor=\"middle\" x=\"18\" y=\"-100.7\" font-family=\"Times,serif\" font-size=\"14.00\">2</text>\n</g>\n<!-- node4 -->\n<g id=\"node2\" class=\"node\">\n<title>node4</title>\n<ellipse fill=\"none\" stroke=\"black\" cx=\"51.6\" cy=\"-147.6\" rx=\"18\" ry=\"18\"/>\n<text text-anchor=\"middle\" x=\"51.6\" y=\"-143.9\" font-family=\"Times,serif\" font-size=\"14.00\">-</text>\n</g>\n<!-- node4&#45;&#45;node0 -->\n<g id=\"edge2\" class=\"edge\">\n<title>node4--node0</title>\n<path fill=\"none\" stroke=\"black\" d=\"M40.22,-132.97C37.64,-129.65 34.85,-126.07 32.16,-122.61\"/>\n</g>\n<!-- node3 -->\n<g id=\"node4\" class=\"node\">\n<title>node3</title>\n<ellipse fill=\"none\" stroke=\"black\" cx=\"118.8\" cy=\"-104.4\" rx=\"18\" ry=\"18\"/>\n<text text-anchor=\"middle\" x=\"118.8\" y=\"-100.7\" font-family=\"Times,serif\" font-size=\"14.00\">*</text>\n</g>\n<!-- node4&#45;&#45;node3 -->\n<g id=\"edge3\" class=\"edge\">\n<title>node4--node3</title>\n<path fill=\"none\" stroke=\"black\" d=\"M66.85,-137.8C77.85,-130.73 92.63,-121.22 103.61,-114.16\"/>\n</g>\n<!-- node1 -->\n<g id=\"node3\" class=\"node\">\n<title>node1</title>\n<polygon fill=\"none\" stroke=\"black\" points=\"103.2,-79.2 67.2,-79.2 67.2,-43.2 103.2,-43.2 103.2,-79.2\"/>\n<text text-anchor=\"middle\" x=\"85.2\" y=\"-57.5\" font-family=\"Times,serif\" font-size=\"14.00\">p</text>\n</g>\n<!-- node3&#45;&#45;node1 -->\n<g id=\"edge4\" class=\"edge\">\n<title>node3--node1</title>\n<path fill=\"none\" stroke=\"black\" d=\"M107.42,-89.77C104.84,-86.45 102.05,-82.87 99.36,-79.41\"/>\n</g>\n<!-- node2 -->\n<g id=\"node5\" class=\"node\">\n<title>node2</title>\n<polygon fill=\"none\" stroke=\"black\" points=\"170.4,-79.2 134.4,-79.2 134.4,-43.2 170.4,-43.2 170.4,-79.2\"/>\n<text text-anchor=\"middle\" x=\"152.4\" y=\"-57.5\" font-family=\"Times,serif\" font-size=\"14.00\">q</text>\n</g>\n<!-- node3&#45;&#45;node2 -->\n<g id=\"edge5\" class=\"edge\">\n<title>node3--node2</title>\n<path fill=\"none\" stroke=\"black\" d=\"M130.18,-89.77C132.76,-86.45 135.55,-82.87 138.24,-79.41\"/>\n</g>\n<!-- node14 -->\n<g id=\"node6\" class=\"node\">\n<title>node14</title>\n<ellipse fill=\"none\" stroke=\"black\" cx=\"186\" cy=\"-190.8\" rx=\"18\" ry=\"18\"/>\n<text text-anchor=\"middle\" x=\"186\" y=\"-187.1\" font-family=\"Times,serif\" font-size=\"14.00\">*</text>\n</g>\n<!-- node14&#45;&#45;node4 -->\n<g id=\"edge1\" class=\"edge\">\n<title>node14--node4</title>\n<path fill=\"none\" stroke=\"black\" d=\"M168.7,-185.24C142.9,-176.95 94.6,-161.42 68.83,-153.14\"/>\n</g>\n<!-- node13 -->\n<g id=\"node10\" class=\"node\">\n<title>node13</title>\n<ellipse fill=\"none\" stroke=\"black\" cx=\"320.4\" cy=\"-147.6\" rx=\"18\" ry=\"18\"/>\n<text text-anchor=\"middle\" x=\"320.4\" y=\"-143.9\" font-family=\"Times,serif\" font-size=\"14.00\">+</text>\n</g>\n<!-- node14&#45;&#45;node13 -->\n<g id=\"edge6\" class=\"edge\">\n<title>node14--node13</title>\n<path fill=\"none\" stroke=\"black\" d=\"M203.3,-185.24C229.1,-176.95 277.4,-161.42 303.17,-153.14\"/>\n</g>\n<!-- node5 -->\n<g id=\"node7\" class=\"node\">\n<title>node5</title>\n<polygon fill=\"none\" stroke=\"black\" points=\"237.6,-79.2 201.6,-79.2 201.6,-43.2 237.6,-43.2 237.6,-79.2\"/>\n<text text-anchor=\"middle\" x=\"219.6\" y=\"-57.5\" font-family=\"Times,serif\" font-size=\"14.00\">1</text>\n</g>\n<!-- node7 -->\n<g id=\"node8\" class=\"node\">\n<title>node7</title>\n<ellipse fill=\"none\" stroke=\"black\" cx=\"253.2\" cy=\"-104.4\" rx=\"18\" ry=\"18\"/>\n<text text-anchor=\"middle\" x=\"253.2\" y=\"-100.7\" font-family=\"Times,serif\" font-size=\"14.00\">/</text>\n</g>\n<!-- node7&#45;&#45;node5 -->\n<g id=\"edge8\" class=\"edge\">\n<title>node7--node5</title>\n<path fill=\"none\" stroke=\"black\" d=\"M241.82,-89.77C239.24,-86.45 236.45,-82.87 233.76,-79.41\"/>\n</g>\n<!-- node6 -->\n<g id=\"node9\" class=\"node\">\n<title>node6</title>\n<polygon fill=\"none\" stroke=\"black\" points=\"304.8,-79.2 268.8,-79.2 268.8,-43.2 304.8,-43.2 304.8,-79.2\"/>\n<text text-anchor=\"middle\" x=\"286.8\" y=\"-57.5\" font-family=\"Times,serif\" font-size=\"14.00\">n</text>\n</g>\n<!-- node7&#45;&#45;node6 -->\n<g id=\"edge9\" class=\"edge\">\n<title>node7--node6</title>\n<path fill=\"none\" stroke=\"black\" d=\"M264.58,-89.77C267.16,-86.45 269.95,-82.87 272.64,-79.41\"/>\n</g>\n<!-- node13&#45;&#45;node7 -->\n<g id=\"edge7\" class=\"edge\">\n<title>node13--node7</title>\n<path fill=\"none\" stroke=\"black\" d=\"M305.15,-137.8C294.15,-130.73 279.37,-121.22 268.39,-114.16\"/>\n</g>\n<!-- node12 -->\n<g id=\"node12\" class=\"node\">\n<title>node12</title>\n<ellipse fill=\"none\" stroke=\"black\" cx=\"387.6\" cy=\"-104.4\" rx=\"18\" ry=\"18\"/>\n<text text-anchor=\"middle\" x=\"387.6\" y=\"-100.7\" font-family=\"Times,serif\" font-size=\"14.00\">/</text>\n</g>\n<!-- node13&#45;&#45;node12 -->\n<g id=\"edge10\" class=\"edge\">\n<title>node13--node12</title>\n<path fill=\"none\" stroke=\"black\" d=\"M335.65,-137.8C346.65,-130.73 361.43,-121.22 372.41,-114.16\"/>\n</g>\n<!-- node8 -->\n<g id=\"node11\" class=\"node\">\n<title>node8</title>\n<polygon fill=\"none\" stroke=\"black\" points=\"372,-79.2 336,-79.2 336,-43.2 372,-43.2 372,-79.2\"/>\n<text text-anchor=\"middle\" x=\"354\" y=\"-57.5\" font-family=\"Times,serif\" font-size=\"14.00\">1</text>\n</g>\n<!-- node12&#45;&#45;node8 -->\n<g id=\"edge11\" class=\"edge\">\n<title>node12--node8</title>\n<path fill=\"none\" stroke=\"black\" d=\"M376.22,-89.77C373.64,-86.45 370.85,-82.87 368.16,-79.41\"/>\n</g>\n<!-- node11 -->\n<g id=\"node14\" class=\"node\">\n<title>node11</title>\n<ellipse fill=\"none\" stroke=\"black\" cx=\"454.8\" cy=\"-61.2\" rx=\"18\" ry=\"18\"/>\n<text text-anchor=\"middle\" x=\"454.8\" y=\"-57.5\" font-family=\"Times,serif\" font-size=\"14.00\">+</text>\n</g>\n<!-- node12&#45;&#45;node11 -->\n<g id=\"edge12\" class=\"edge\">\n<title>node12--node11</title>\n<path fill=\"none\" stroke=\"black\" d=\"M402.85,-94.6C413.85,-87.53 428.63,-78.02 439.61,-70.96\"/>\n</g>\n<!-- node9 -->\n<g id=\"node13\" class=\"node\">\n<title>node9</title>\n<polygon fill=\"none\" stroke=\"black\" points=\"439.2,-36 403.2,-36 403.2,0 439.2,0 439.2,-36\"/>\n<text text-anchor=\"middle\" x=\"421.2\" y=\"-14.3\" font-family=\"Times,serif\" font-size=\"14.00\">p</text>\n</g>\n<!-- node11&#45;&#45;node9 -->\n<g id=\"edge13\" class=\"edge\">\n<title>node11--node9</title>\n<path fill=\"none\" stroke=\"black\" d=\"M443.42,-46.57C440.84,-43.25 438.05,-39.67 435.36,-36.21\"/>\n</g>\n<!-- node10 -->\n<g id=\"node15\" class=\"node\">\n<title>node10</title>\n<polygon fill=\"none\" stroke=\"black\" points=\"506.4,-36 470.4,-36 470.4,0 506.4,0 506.4,-36\"/>\n<text text-anchor=\"middle\" x=\"488.4\" y=\"-14.3\" font-family=\"Times,serif\" font-size=\"14.00\">q</text>\n</g>\n<!-- node11&#45;&#45;node10 -->\n<g id=\"edge14\" class=\"edge\">\n<title>node11--node10</title>\n<path fill=\"none\" stroke=\"black\" d=\"M466.18,-46.57C468.76,-43.25 471.55,-39.67 474.24,-36.21\"/>\n</g>\n</g>\n</svg>"
          },
          "metadata": {}
        },
        {
          "output_type": "stream",
          "name": "stdout",
          "text": [
            "t1=p*q\n",
            "t2=2-t1\n",
            "t3=1/n\n",
            "t4=p+q\n",
            "t5=1/t4\n",
            "t6=t3+t5\n",
            "t7=t2*t6\n"
          ]
        }
      ]
    },
    {
      "cell_type": "code",
      "metadata": {
        "id": "KOs7ocpkF2oD",
        "outputId": "826a476d-7164-4ab2-c303-2128f19e9452",
        "colab": {
          "base_uri": "https://localhost:8080/",
          "height": 383
        }
      },
      "source": [
        "probar(\"((((a+b)+c)+d)+e)\")"
      ],
      "execution_count": null,
      "outputs": [
        {
          "output_type": "display_data",
          "data": {
            "text/plain": [
              "<IPython.core.display.SVG object>"
            ],
            "image/svg+xml": "<svg xmlns=\"http://www.w3.org/2000/svg\" xmlns:xlink=\"http://www.w3.org/1999/xlink\" width=\"313pt\" height=\"217pt\" viewBox=\"0.00 0.00 312.80 216.80\">\n<g id=\"graph0\" class=\"graph\" transform=\"scale(1 1) rotate(0) translate(4 212.8)\">\n<title>Arbol</title>\n<polygon fill=\"white\" stroke=\"transparent\" points=\"-4,4 -4,-212.8 308.8,-212.8 308.8,4 -4,4\"/>\n<!-- node0 -->\n<g id=\"node1\" class=\"node\">\n<title>node0</title>\n<polygon fill=\"none\" stroke=\"black\" points=\"36,-36 0,-36 0,0 36,0 36,-36\"/>\n<text text-anchor=\"middle\" x=\"18\" y=\"-14.3\" font-family=\"Times,serif\" font-size=\"14.00\">a</text>\n</g>\n<!-- node2 -->\n<g id=\"node2\" class=\"node\">\n<title>node2</title>\n<ellipse fill=\"none\" stroke=\"black\" cx=\"51.6\" cy=\"-61.2\" rx=\"18\" ry=\"18\"/>\n<text text-anchor=\"middle\" x=\"51.6\" y=\"-57.5\" font-family=\"Times,serif\" font-size=\"14.00\">+</text>\n</g>\n<!-- node2&#45;&#45;node0 -->\n<g id=\"edge4\" class=\"edge\">\n<title>node2--node0</title>\n<path fill=\"none\" stroke=\"black\" d=\"M40.22,-46.57C37.64,-43.25 34.85,-39.67 32.16,-36.21\"/>\n</g>\n<!-- node1 -->\n<g id=\"node3\" class=\"node\">\n<title>node1</title>\n<polygon fill=\"none\" stroke=\"black\" points=\"103.2,-36 67.2,-36 67.2,0 103.2,0 103.2,-36\"/>\n<text text-anchor=\"middle\" x=\"85.2\" y=\"-14.3\" font-family=\"Times,serif\" font-size=\"14.00\">b</text>\n</g>\n<!-- node2&#45;&#45;node1 -->\n<g id=\"edge5\" class=\"edge\">\n<title>node2--node1</title>\n<path fill=\"none\" stroke=\"black\" d=\"M62.98,-46.57C65.56,-43.25 68.35,-39.67 71.04,-36.21\"/>\n</g>\n<!-- node4 -->\n<g id=\"node4\" class=\"node\">\n<title>node4</title>\n<ellipse fill=\"none\" stroke=\"black\" cx=\"118.8\" cy=\"-104.4\" rx=\"18\" ry=\"18\"/>\n<text text-anchor=\"middle\" x=\"118.8\" y=\"-100.7\" font-family=\"Times,serif\" font-size=\"14.00\">+</text>\n</g>\n<!-- node4&#45;&#45;node2 -->\n<g id=\"edge3\" class=\"edge\">\n<title>node4--node2</title>\n<path fill=\"none\" stroke=\"black\" d=\"M103.55,-94.6C92.55,-87.53 77.77,-78.02 66.79,-70.96\"/>\n</g>\n<!-- node3 -->\n<g id=\"node5\" class=\"node\">\n<title>node3</title>\n<polygon fill=\"none\" stroke=\"black\" points=\"170.4,-79.2 134.4,-79.2 134.4,-43.2 170.4,-43.2 170.4,-79.2\"/>\n<text text-anchor=\"middle\" x=\"152.4\" y=\"-57.5\" font-family=\"Times,serif\" font-size=\"14.00\">c</text>\n</g>\n<!-- node4&#45;&#45;node3 -->\n<g id=\"edge6\" class=\"edge\">\n<title>node4--node3</title>\n<path fill=\"none\" stroke=\"black\" d=\"M130.18,-89.77C132.76,-86.45 135.55,-82.87 138.24,-79.41\"/>\n</g>\n<!-- node6 -->\n<g id=\"node6\" class=\"node\">\n<title>node6</title>\n<ellipse fill=\"none\" stroke=\"black\" cx=\"186\" cy=\"-147.6\" rx=\"18\" ry=\"18\"/>\n<text text-anchor=\"middle\" x=\"186\" y=\"-143.9\" font-family=\"Times,serif\" font-size=\"14.00\">+</text>\n</g>\n<!-- node6&#45;&#45;node4 -->\n<g id=\"edge2\" class=\"edge\">\n<title>node6--node4</title>\n<path fill=\"none\" stroke=\"black\" d=\"M170.75,-137.8C159.75,-130.73 144.97,-121.22 133.99,-114.16\"/>\n</g>\n<!-- node5 -->\n<g id=\"node7\" class=\"node\">\n<title>node5</title>\n<polygon fill=\"none\" stroke=\"black\" points=\"237.6,-122.4 201.6,-122.4 201.6,-86.4 237.6,-86.4 237.6,-122.4\"/>\n<text text-anchor=\"middle\" x=\"219.6\" y=\"-100.7\" font-family=\"Times,serif\" font-size=\"14.00\">d</text>\n</g>\n<!-- node6&#45;&#45;node5 -->\n<g id=\"edge7\" class=\"edge\">\n<title>node6--node5</title>\n<path fill=\"none\" stroke=\"black\" d=\"M197.38,-132.97C199.96,-129.65 202.75,-126.07 205.44,-122.61\"/>\n</g>\n<!-- node8 -->\n<g id=\"node8\" class=\"node\">\n<title>node8</title>\n<ellipse fill=\"none\" stroke=\"black\" cx=\"253.2\" cy=\"-190.8\" rx=\"18\" ry=\"18\"/>\n<text text-anchor=\"middle\" x=\"253.2\" y=\"-187.1\" font-family=\"Times,serif\" font-size=\"14.00\">+</text>\n</g>\n<!-- node8&#45;&#45;node6 -->\n<g id=\"edge1\" class=\"edge\">\n<title>node8--node6</title>\n<path fill=\"none\" stroke=\"black\" d=\"M237.95,-181C226.95,-173.93 212.17,-164.42 201.19,-157.36\"/>\n</g>\n<!-- node7 -->\n<g id=\"node9\" class=\"node\">\n<title>node7</title>\n<polygon fill=\"none\" stroke=\"black\" points=\"304.8,-165.6 268.8,-165.6 268.8,-129.6 304.8,-129.6 304.8,-165.6\"/>\n<text text-anchor=\"middle\" x=\"286.8\" y=\"-143.9\" font-family=\"Times,serif\" font-size=\"14.00\">e</text>\n</g>\n<!-- node8&#45;&#45;node7 -->\n<g id=\"edge8\" class=\"edge\">\n<title>node8--node7</title>\n<path fill=\"none\" stroke=\"black\" d=\"M264.58,-176.17C267.16,-172.85 269.95,-169.27 272.64,-165.81\"/>\n</g>\n</g>\n</svg>"
          },
          "metadata": {}
        },
        {
          "output_type": "stream",
          "name": "stdout",
          "text": [
            "t1=a+b\n",
            "t2=t1+c\n",
            "t3=t2+d\n",
            "t4=t3+e\n"
          ]
        }
      ]
    },
    {
      "cell_type": "code",
      "metadata": {
        "id": "XzR_Y6o_F2oI",
        "outputId": "f1fba8ef-1b2c-4193-9a31-4f3ff2f30f8b",
        "colab": {
          "base_uri": "https://localhost:8080/",
          "height": 383
        }
      },
      "source": [
        "probar(\"(a+(b+(c+(d+e))))\")"
      ],
      "execution_count": null,
      "outputs": [
        {
          "output_type": "display_data",
          "data": {
            "text/plain": [
              "<IPython.core.display.SVG object>"
            ],
            "image/svg+xml": "<svg xmlns=\"http://www.w3.org/2000/svg\" xmlns:xlink=\"http://www.w3.org/1999/xlink\" width=\"313pt\" height=\"217pt\" viewBox=\"0.00 0.00 312.80 216.80\">\n<g id=\"graph0\" class=\"graph\" transform=\"scale(1 1) rotate(0) translate(4 212.8)\">\n<title>Arbol</title>\n<polygon fill=\"white\" stroke=\"transparent\" points=\"-4,4 -4,-212.8 308.8,-212.8 308.8,4 -4,4\"/>\n<!-- node0 -->\n<g id=\"node1\" class=\"node\">\n<title>node0</title>\n<polygon fill=\"none\" stroke=\"black\" points=\"36,-165.6 0,-165.6 0,-129.6 36,-129.6 36,-165.6\"/>\n<text text-anchor=\"middle\" x=\"18\" y=\"-143.9\" font-family=\"Times,serif\" font-size=\"14.00\">a</text>\n</g>\n<!-- node8 -->\n<g id=\"node2\" class=\"node\">\n<title>node8</title>\n<ellipse fill=\"none\" stroke=\"black\" cx=\"51.6\" cy=\"-190.8\" rx=\"18\" ry=\"18\"/>\n<text text-anchor=\"middle\" x=\"51.6\" y=\"-187.1\" font-family=\"Times,serif\" font-size=\"14.00\">+</text>\n</g>\n<!-- node8&#45;&#45;node0 -->\n<g id=\"edge1\" class=\"edge\">\n<title>node8--node0</title>\n<path fill=\"none\" stroke=\"black\" d=\"M40.22,-176.17C37.64,-172.85 34.85,-169.27 32.16,-165.81\"/>\n</g>\n<!-- node7 -->\n<g id=\"node4\" class=\"node\">\n<title>node7</title>\n<ellipse fill=\"none\" stroke=\"black\" cx=\"118.8\" cy=\"-147.6\" rx=\"18\" ry=\"18\"/>\n<text text-anchor=\"middle\" x=\"118.8\" y=\"-143.9\" font-family=\"Times,serif\" font-size=\"14.00\">+</text>\n</g>\n<!-- node8&#45;&#45;node7 -->\n<g id=\"edge2\" class=\"edge\">\n<title>node8--node7</title>\n<path fill=\"none\" stroke=\"black\" d=\"M66.85,-181C77.85,-173.93 92.63,-164.42 103.61,-157.36\"/>\n</g>\n<!-- node1 -->\n<g id=\"node3\" class=\"node\">\n<title>node1</title>\n<polygon fill=\"none\" stroke=\"black\" points=\"103.2,-122.4 67.2,-122.4 67.2,-86.4 103.2,-86.4 103.2,-122.4\"/>\n<text text-anchor=\"middle\" x=\"85.2\" y=\"-100.7\" font-family=\"Times,serif\" font-size=\"14.00\">b</text>\n</g>\n<!-- node7&#45;&#45;node1 -->\n<g id=\"edge3\" class=\"edge\">\n<title>node7--node1</title>\n<path fill=\"none\" stroke=\"black\" d=\"M107.42,-132.97C104.84,-129.65 102.05,-126.07 99.36,-122.61\"/>\n</g>\n<!-- node6 -->\n<g id=\"node6\" class=\"node\">\n<title>node6</title>\n<ellipse fill=\"none\" stroke=\"black\" cx=\"186\" cy=\"-104.4\" rx=\"18\" ry=\"18\"/>\n<text text-anchor=\"middle\" x=\"186\" y=\"-100.7\" font-family=\"Times,serif\" font-size=\"14.00\">+</text>\n</g>\n<!-- node7&#45;&#45;node6 -->\n<g id=\"edge4\" class=\"edge\">\n<title>node7--node6</title>\n<path fill=\"none\" stroke=\"black\" d=\"M134.05,-137.8C145.05,-130.73 159.83,-121.22 170.81,-114.16\"/>\n</g>\n<!-- node2 -->\n<g id=\"node5\" class=\"node\">\n<title>node2</title>\n<polygon fill=\"none\" stroke=\"black\" points=\"170.4,-79.2 134.4,-79.2 134.4,-43.2 170.4,-43.2 170.4,-79.2\"/>\n<text text-anchor=\"middle\" x=\"152.4\" y=\"-57.5\" font-family=\"Times,serif\" font-size=\"14.00\">c</text>\n</g>\n<!-- node6&#45;&#45;node2 -->\n<g id=\"edge5\" class=\"edge\">\n<title>node6--node2</title>\n<path fill=\"none\" stroke=\"black\" d=\"M174.62,-89.77C172.04,-86.45 169.25,-82.87 166.56,-79.41\"/>\n</g>\n<!-- node5 -->\n<g id=\"node8\" class=\"node\">\n<title>node5</title>\n<ellipse fill=\"none\" stroke=\"black\" cx=\"253.2\" cy=\"-61.2\" rx=\"18\" ry=\"18\"/>\n<text text-anchor=\"middle\" x=\"253.2\" y=\"-57.5\" font-family=\"Times,serif\" font-size=\"14.00\">+</text>\n</g>\n<!-- node6&#45;&#45;node5 -->\n<g id=\"edge6\" class=\"edge\">\n<title>node6--node5</title>\n<path fill=\"none\" stroke=\"black\" d=\"M201.25,-94.6C212.25,-87.53 227.03,-78.02 238.01,-70.96\"/>\n</g>\n<!-- node3 -->\n<g id=\"node7\" class=\"node\">\n<title>node3</title>\n<polygon fill=\"none\" stroke=\"black\" points=\"237.6,-36 201.6,-36 201.6,0 237.6,0 237.6,-36\"/>\n<text text-anchor=\"middle\" x=\"219.6\" y=\"-14.3\" font-family=\"Times,serif\" font-size=\"14.00\">d</text>\n</g>\n<!-- node5&#45;&#45;node3 -->\n<g id=\"edge7\" class=\"edge\">\n<title>node5--node3</title>\n<path fill=\"none\" stroke=\"black\" d=\"M241.82,-46.57C239.24,-43.25 236.45,-39.67 233.76,-36.21\"/>\n</g>\n<!-- node4 -->\n<g id=\"node9\" class=\"node\">\n<title>node4</title>\n<polygon fill=\"none\" stroke=\"black\" points=\"304.8,-36 268.8,-36 268.8,0 304.8,0 304.8,-36\"/>\n<text text-anchor=\"middle\" x=\"286.8\" y=\"-14.3\" font-family=\"Times,serif\" font-size=\"14.00\">e</text>\n</g>\n<!-- node5&#45;&#45;node4 -->\n<g id=\"edge8\" class=\"edge\">\n<title>node5--node4</title>\n<path fill=\"none\" stroke=\"black\" d=\"M264.58,-46.57C267.16,-43.25 269.95,-39.67 272.64,-36.21\"/>\n</g>\n</g>\n</svg>"
          },
          "metadata": {}
        },
        {
          "output_type": "stream",
          "name": "stdout",
          "text": [
            "t1=d+e\n",
            "t2=c+t1\n",
            "t3=b+t2\n",
            "t4=a+t3\n"
          ]
        }
      ]
    },
    {
      "cell_type": "code",
      "metadata": {
        "id": "R62vPzgAF2oL",
        "outputId": "350575ad-a662-4c3b-8960-3eedb720513b",
        "colab": {
          "base_uri": "https://localhost:8080/",
          "height": 98
        }
      },
      "source": [
        "probar(\"a\")"
      ],
      "execution_count": null,
      "outputs": [
        {
          "output_type": "display_data",
          "data": {
            "text/plain": [
              "<IPython.core.display.SVG object>"
            ],
            "image/svg+xml": "<svg xmlns=\"http://www.w3.org/2000/svg\" xmlns:xlink=\"http://www.w3.org/1999/xlink\" width=\"44pt\" height=\"44pt\" viewBox=\"0.00 0.00 44.00 44.00\">\n<g id=\"graph0\" class=\"graph\" transform=\"scale(1 1) rotate(0) translate(4 40)\">\n<title>Arbol</title>\n<polygon fill=\"white\" stroke=\"transparent\" points=\"-4,4 -4,-40 40,-40 40,4 -4,4\"/>\n<!-- node0 -->\n<g id=\"node1\" class=\"node\">\n<title>node0</title>\n<polygon fill=\"none\" stroke=\"black\" points=\"36,-36 0,-36 0,0 36,0 36,-36\"/>\n<text text-anchor=\"middle\" x=\"18\" y=\"-14.3\" font-family=\"Times,serif\" font-size=\"14.00\">a</text>\n</g>\n</g>\n</svg>"
          },
          "metadata": {}
        },
        {
          "output_type": "stream",
          "name": "stdout",
          "text": [
            "t1=a\n"
          ]
        }
      ]
    },
    {
      "cell_type": "markdown",
      "source": [
        "Formulas adicionales:"
      ],
      "metadata": {
        "id": "zOG87RLU0RpJ"
      }
    },
    {
      "cell_type": "code",
      "source": [
        "probar(\"(a-(b-(c-d)))*((((e-h)-g)-f))\")"
      ],
      "metadata": {
        "colab": {
          "base_uri": "https://localhost:8080/",
          "height": 438
        },
        "id": "sZvi9GAAx-My",
        "outputId": "f2e98378-cfbe-4415-de57-f97300b32c72"
      },
      "execution_count": null,
      "outputs": [
        {
          "output_type": "display_data",
          "data": {
            "text/plain": [
              "<IPython.core.display.SVG object>"
            ],
            "image/svg+xml": "<svg xmlns=\"http://www.w3.org/2000/svg\" xmlns:xlink=\"http://www.w3.org/1999/xlink\" width=\"514pt\" height=\"217pt\" viewBox=\"0.00 0.00 514.40 216.80\">\n<g id=\"graph0\" class=\"graph\" transform=\"scale(1 1) rotate(0) translate(4 212.8)\">\n<title>Arbol</title>\n<polygon fill=\"white\" stroke=\"transparent\" points=\"-4,4 -4,-212.8 510.4,-212.8 510.4,4 -4,4\"/>\n<!-- node0 -->\n<g id=\"node1\" class=\"node\">\n<title>node0</title>\n<polygon fill=\"none\" stroke=\"black\" points=\"36,-122.4 0,-122.4 0,-86.4 36,-86.4 36,-122.4\"/>\n<text text-anchor=\"middle\" x=\"18\" y=\"-100.7\" font-family=\"Times,serif\" font-size=\"14.00\">a</text>\n</g>\n<!-- node6 -->\n<g id=\"node2\" class=\"node\">\n<title>node6</title>\n<ellipse fill=\"none\" stroke=\"black\" cx=\"51.6\" cy=\"-147.6\" rx=\"18\" ry=\"18\"/>\n<text text-anchor=\"middle\" x=\"51.6\" y=\"-143.9\" font-family=\"Times,serif\" font-size=\"14.00\">-</text>\n</g>\n<!-- node6&#45;&#45;node0 -->\n<g id=\"edge2\" class=\"edge\">\n<title>node6--node0</title>\n<path fill=\"none\" stroke=\"black\" d=\"M40.22,-132.97C37.64,-129.65 34.85,-126.07 32.16,-122.61\"/>\n</g>\n<!-- node5 -->\n<g id=\"node4\" class=\"node\">\n<title>node5</title>\n<ellipse fill=\"none\" stroke=\"black\" cx=\"118.8\" cy=\"-104.4\" rx=\"18\" ry=\"18\"/>\n<text text-anchor=\"middle\" x=\"118.8\" y=\"-100.7\" font-family=\"Times,serif\" font-size=\"14.00\">-</text>\n</g>\n<!-- node6&#45;&#45;node5 -->\n<g id=\"edge3\" class=\"edge\">\n<title>node6--node5</title>\n<path fill=\"none\" stroke=\"black\" d=\"M66.85,-137.8C77.85,-130.73 92.63,-121.22 103.61,-114.16\"/>\n</g>\n<!-- node1 -->\n<g id=\"node3\" class=\"node\">\n<title>node1</title>\n<polygon fill=\"none\" stroke=\"black\" points=\"103.2,-79.2 67.2,-79.2 67.2,-43.2 103.2,-43.2 103.2,-79.2\"/>\n<text text-anchor=\"middle\" x=\"85.2\" y=\"-57.5\" font-family=\"Times,serif\" font-size=\"14.00\">b</text>\n</g>\n<!-- node5&#45;&#45;node1 -->\n<g id=\"edge4\" class=\"edge\">\n<title>node5--node1</title>\n<path fill=\"none\" stroke=\"black\" d=\"M107.42,-89.77C104.84,-86.45 102.05,-82.87 99.36,-79.41\"/>\n</g>\n<!-- node4 -->\n<g id=\"node6\" class=\"node\">\n<title>node4</title>\n<ellipse fill=\"none\" stroke=\"black\" cx=\"186\" cy=\"-61.2\" rx=\"18\" ry=\"18\"/>\n<text text-anchor=\"middle\" x=\"186\" y=\"-57.5\" font-family=\"Times,serif\" font-size=\"14.00\">-</text>\n</g>\n<!-- node5&#45;&#45;node4 -->\n<g id=\"edge5\" class=\"edge\">\n<title>node5--node4</title>\n<path fill=\"none\" stroke=\"black\" d=\"M134.05,-94.6C145.05,-87.53 159.83,-78.02 170.81,-70.96\"/>\n</g>\n<!-- node2 -->\n<g id=\"node5\" class=\"node\">\n<title>node2</title>\n<polygon fill=\"none\" stroke=\"black\" points=\"170.4,-36 134.4,-36 134.4,0 170.4,0 170.4,-36\"/>\n<text text-anchor=\"middle\" x=\"152.4\" y=\"-14.3\" font-family=\"Times,serif\" font-size=\"14.00\">c</text>\n</g>\n<!-- node4&#45;&#45;node2 -->\n<g id=\"edge6\" class=\"edge\">\n<title>node4--node2</title>\n<path fill=\"none\" stroke=\"black\" d=\"M174.62,-46.57C172.04,-43.25 169.25,-39.67 166.56,-36.21\"/>\n</g>\n<!-- node3 -->\n<g id=\"node7\" class=\"node\">\n<title>node3</title>\n<polygon fill=\"none\" stroke=\"black\" points=\"237.6,-36 201.6,-36 201.6,0 237.6,0 237.6,-36\"/>\n<text text-anchor=\"middle\" x=\"219.6\" y=\"-14.3\" font-family=\"Times,serif\" font-size=\"14.00\">d</text>\n</g>\n<!-- node4&#45;&#45;node3 -->\n<g id=\"edge7\" class=\"edge\">\n<title>node4--node3</title>\n<path fill=\"none\" stroke=\"black\" d=\"M197.38,-46.57C199.96,-43.25 202.75,-39.67 205.44,-36.21\"/>\n</g>\n<!-- node14 -->\n<g id=\"node8\" class=\"node\">\n<title>node14</title>\n<ellipse fill=\"none\" stroke=\"black\" cx=\"253.2\" cy=\"-190.8\" rx=\"18\" ry=\"18\"/>\n<text text-anchor=\"middle\" x=\"253.2\" y=\"-187.1\" font-family=\"Times,serif\" font-size=\"14.00\">*</text>\n</g>\n<!-- node14&#45;&#45;node6 -->\n<g id=\"edge1\" class=\"edge\">\n<title>node14--node6</title>\n<path fill=\"none\" stroke=\"black\" d=\"M235.31,-186.97C197.05,-178.77 107.67,-159.62 69.45,-151.43\"/>\n</g>\n<!-- node13 -->\n<g id=\"node14\" class=\"node\">\n<title>node13</title>\n<ellipse fill=\"none\" stroke=\"black\" cx=\"454.8\" cy=\"-147.6\" rx=\"18\" ry=\"18\"/>\n<text text-anchor=\"middle\" x=\"454.8\" y=\"-143.9\" font-family=\"Times,serif\" font-size=\"14.00\">-</text>\n</g>\n<!-- node14&#45;&#45;node13 -->\n<g id=\"edge8\" class=\"edge\">\n<title>node14--node13</title>\n<path fill=\"none\" stroke=\"black\" d=\"M271.09,-186.97C309.35,-178.77 398.73,-159.62 436.95,-151.43\"/>\n</g>\n<!-- node7 -->\n<g id=\"node9\" class=\"node\">\n<title>node7</title>\n<polygon fill=\"none\" stroke=\"black\" points=\"304.8,-36 268.8,-36 268.8,0 304.8,0 304.8,-36\"/>\n<text text-anchor=\"middle\" x=\"286.8\" y=\"-14.3\" font-family=\"Times,serif\" font-size=\"14.00\">e</text>\n</g>\n<!-- node9 -->\n<g id=\"node10\" class=\"node\">\n<title>node9</title>\n<ellipse fill=\"none\" stroke=\"black\" cx=\"320.4\" cy=\"-61.2\" rx=\"18\" ry=\"18\"/>\n<text text-anchor=\"middle\" x=\"320.4\" y=\"-57.5\" font-family=\"Times,serif\" font-size=\"14.00\">-</text>\n</g>\n<!-- node9&#45;&#45;node7 -->\n<g id=\"edge11\" class=\"edge\">\n<title>node9--node7</title>\n<path fill=\"none\" stroke=\"black\" d=\"M309.02,-46.57C306.44,-43.25 303.65,-39.67 300.96,-36.21\"/>\n</g>\n<!-- node8 -->\n<g id=\"node11\" class=\"node\">\n<title>node8</title>\n<polygon fill=\"none\" stroke=\"black\" points=\"372,-36 336,-36 336,0 372,0 372,-36\"/>\n<text text-anchor=\"middle\" x=\"354\" y=\"-14.3\" font-family=\"Times,serif\" font-size=\"14.00\">h</text>\n</g>\n<!-- node9&#45;&#45;node8 -->\n<g id=\"edge12\" class=\"edge\">\n<title>node9--node8</title>\n<path fill=\"none\" stroke=\"black\" d=\"M331.78,-46.57C334.36,-43.25 337.15,-39.67 339.84,-36.21\"/>\n</g>\n<!-- node11 -->\n<g id=\"node12\" class=\"node\">\n<title>node11</title>\n<ellipse fill=\"none\" stroke=\"black\" cx=\"387.6\" cy=\"-104.4\" rx=\"18\" ry=\"18\"/>\n<text text-anchor=\"middle\" x=\"387.6\" y=\"-100.7\" font-family=\"Times,serif\" font-size=\"14.00\">-</text>\n</g>\n<!-- node11&#45;&#45;node9 -->\n<g id=\"edge10\" class=\"edge\">\n<title>node11--node9</title>\n<path fill=\"none\" stroke=\"black\" d=\"M372.35,-94.6C361.35,-87.53 346.57,-78.02 335.59,-70.96\"/>\n</g>\n<!-- node10 -->\n<g id=\"node13\" class=\"node\">\n<title>node10</title>\n<polygon fill=\"none\" stroke=\"black\" points=\"439.2,-79.2 403.2,-79.2 403.2,-43.2 439.2,-43.2 439.2,-79.2\"/>\n<text text-anchor=\"middle\" x=\"421.2\" y=\"-57.5\" font-family=\"Times,serif\" font-size=\"14.00\">g</text>\n</g>\n<!-- node11&#45;&#45;node10 -->\n<g id=\"edge13\" class=\"edge\">\n<title>node11--node10</title>\n<path fill=\"none\" stroke=\"black\" d=\"M398.98,-89.77C401.56,-86.45 404.35,-82.87 407.04,-79.41\"/>\n</g>\n<!-- node13&#45;&#45;node11 -->\n<g id=\"edge9\" class=\"edge\">\n<title>node13--node11</title>\n<path fill=\"none\" stroke=\"black\" d=\"M439.55,-137.8C428.55,-130.73 413.77,-121.22 402.79,-114.16\"/>\n</g>\n<!-- node12 -->\n<g id=\"node15\" class=\"node\">\n<title>node12</title>\n<polygon fill=\"none\" stroke=\"black\" points=\"506.4,-122.4 470.4,-122.4 470.4,-86.4 506.4,-86.4 506.4,-122.4\"/>\n<text text-anchor=\"middle\" x=\"488.4\" y=\"-100.7\" font-family=\"Times,serif\" font-size=\"14.00\">f</text>\n</g>\n<!-- node13&#45;&#45;node12 -->\n<g id=\"edge14\" class=\"edge\">\n<title>node13--node12</title>\n<path fill=\"none\" stroke=\"black\" d=\"M466.18,-132.97C468.76,-129.65 471.55,-126.07 474.24,-122.61\"/>\n</g>\n</g>\n</svg>"
          },
          "metadata": {}
        },
        {
          "output_type": "stream",
          "name": "stdout",
          "text": [
            "t1=c-d\n",
            "t2=b-t1\n",
            "t3=a-t2\n",
            "t4=e-h\n",
            "t5=t4-g\n",
            "t6=t5-f\n",
            "t7=t3*t6\n"
          ]
        }
      ]
    },
    {
      "cell_type": "code",
      "source": [
        "probar(\"((x+y)+(x-y))*(z-(x-y*w/x))\")"
      ],
      "metadata": {
        "colab": {
          "base_uri": "https://localhost:8080/",
          "height": 514
        },
        "id": "8T6ODitzyoeJ",
        "outputId": "d0eb4a35-7694-4783-dbe2-64ea78595d83"
      },
      "execution_count": null,
      "outputs": [
        {
          "output_type": "display_data",
          "data": {
            "text/plain": [
              "<IPython.core.display.SVG object>"
            ],
            "image/svg+xml": "<svg xmlns=\"http://www.w3.org/2000/svg\" xmlns:xlink=\"http://www.w3.org/1999/xlink\" width=\"582pt\" height=\"260pt\" viewBox=\"0.00 0.00 581.60 260.00\">\n<g id=\"graph0\" class=\"graph\" transform=\"scale(1 1) rotate(0) translate(4 256)\">\n<title>Arbol</title>\n<polygon fill=\"white\" stroke=\"transparent\" points=\"-4,4 -4,-256 577.6,-256 577.6,4 -4,4\"/>\n<!-- node0 -->\n<g id=\"node1\" class=\"node\">\n<title>node0</title>\n<polygon fill=\"none\" stroke=\"black\" points=\"36,-122.4 0,-122.4 0,-86.4 36,-86.4 36,-122.4\"/>\n<text text-anchor=\"middle\" x=\"18\" y=\"-100.7\" font-family=\"Times,serif\" font-size=\"14.00\">x</text>\n</g>\n<!-- node2 -->\n<g id=\"node2\" class=\"node\">\n<title>node2</title>\n<ellipse fill=\"none\" stroke=\"black\" cx=\"51.6\" cy=\"-147.6\" rx=\"18\" ry=\"18\"/>\n<text text-anchor=\"middle\" x=\"51.6\" y=\"-143.9\" font-family=\"Times,serif\" font-size=\"14.00\">+</text>\n</g>\n<!-- node2&#45;&#45;node0 -->\n<g id=\"edge3\" class=\"edge\">\n<title>node2--node0</title>\n<path fill=\"none\" stroke=\"black\" d=\"M40.22,-132.97C37.64,-129.65 34.85,-126.07 32.16,-122.61\"/>\n</g>\n<!-- node1 -->\n<g id=\"node3\" class=\"node\">\n<title>node1</title>\n<polygon fill=\"none\" stroke=\"black\" points=\"103.2,-122.4 67.2,-122.4 67.2,-86.4 103.2,-86.4 103.2,-122.4\"/>\n<text text-anchor=\"middle\" x=\"85.2\" y=\"-100.7\" font-family=\"Times,serif\" font-size=\"14.00\">y</text>\n</g>\n<!-- node2&#45;&#45;node1 -->\n<g id=\"edge4\" class=\"edge\">\n<title>node2--node1</title>\n<path fill=\"none\" stroke=\"black\" d=\"M62.98,-132.97C65.56,-129.65 68.35,-126.07 71.04,-122.61\"/>\n</g>\n<!-- node6 -->\n<g id=\"node4\" class=\"node\">\n<title>node6</title>\n<ellipse fill=\"none\" stroke=\"black\" cx=\"118.8\" cy=\"-190.8\" rx=\"18\" ry=\"18\"/>\n<text text-anchor=\"middle\" x=\"118.8\" y=\"-187.1\" font-family=\"Times,serif\" font-size=\"14.00\">+</text>\n</g>\n<!-- node6&#45;&#45;node2 -->\n<g id=\"edge2\" class=\"edge\">\n<title>node6--node2</title>\n<path fill=\"none\" stroke=\"black\" d=\"M103.55,-181C92.55,-173.93 77.77,-164.42 66.79,-157.36\"/>\n</g>\n<!-- node5 -->\n<g id=\"node6\" class=\"node\">\n<title>node5</title>\n<ellipse fill=\"none\" stroke=\"black\" cx=\"186\" cy=\"-147.6\" rx=\"18\" ry=\"18\"/>\n<text text-anchor=\"middle\" x=\"186\" y=\"-143.9\" font-family=\"Times,serif\" font-size=\"14.00\">-</text>\n</g>\n<!-- node6&#45;&#45;node5 -->\n<g id=\"edge5\" class=\"edge\">\n<title>node6--node5</title>\n<path fill=\"none\" stroke=\"black\" d=\"M134.05,-181C145.05,-173.93 159.83,-164.42 170.81,-157.36\"/>\n</g>\n<!-- node3 -->\n<g id=\"node5\" class=\"node\">\n<title>node3</title>\n<polygon fill=\"none\" stroke=\"black\" points=\"170.4,-122.4 134.4,-122.4 134.4,-86.4 170.4,-86.4 170.4,-122.4\"/>\n<text text-anchor=\"middle\" x=\"152.4\" y=\"-100.7\" font-family=\"Times,serif\" font-size=\"14.00\">x</text>\n</g>\n<!-- node5&#45;&#45;node3 -->\n<g id=\"edge6\" class=\"edge\">\n<title>node5--node3</title>\n<path fill=\"none\" stroke=\"black\" d=\"M174.62,-132.97C172.04,-129.65 169.25,-126.07 166.56,-122.61\"/>\n</g>\n<!-- node4 -->\n<g id=\"node7\" class=\"node\">\n<title>node4</title>\n<polygon fill=\"none\" stroke=\"black\" points=\"237.6,-122.4 201.6,-122.4 201.6,-86.4 237.6,-86.4 237.6,-122.4\"/>\n<text text-anchor=\"middle\" x=\"219.6\" y=\"-100.7\" font-family=\"Times,serif\" font-size=\"14.00\">y</text>\n</g>\n<!-- node5&#45;&#45;node4 -->\n<g id=\"edge7\" class=\"edge\">\n<title>node5--node4</title>\n<path fill=\"none\" stroke=\"black\" d=\"M197.38,-132.97C199.96,-129.65 202.75,-126.07 205.44,-122.61\"/>\n</g>\n<!-- node16 -->\n<g id=\"node8\" class=\"node\">\n<title>node16</title>\n<ellipse fill=\"none\" stroke=\"black\" cx=\"253.2\" cy=\"-234\" rx=\"18\" ry=\"18\"/>\n<text text-anchor=\"middle\" x=\"253.2\" y=\"-230.3\" font-family=\"Times,serif\" font-size=\"14.00\">*</text>\n</g>\n<!-- node16&#45;&#45;node6 -->\n<g id=\"edge1\" class=\"edge\">\n<title>node16--node6</title>\n<path fill=\"none\" stroke=\"black\" d=\"M235.9,-228.44C210.1,-220.15 161.8,-204.62 136.03,-196.34\"/>\n</g>\n<!-- node15 -->\n<g id=\"node10\" class=\"node\">\n<title>node15</title>\n<ellipse fill=\"none\" stroke=\"black\" cx=\"320.4\" cy=\"-190.8\" rx=\"18\" ry=\"18\"/>\n<text text-anchor=\"middle\" x=\"320.4\" y=\"-187.1\" font-family=\"Times,serif\" font-size=\"14.00\">-</text>\n</g>\n<!-- node16&#45;&#45;node15 -->\n<g id=\"edge8\" class=\"edge\">\n<title>node16--node15</title>\n<path fill=\"none\" stroke=\"black\" d=\"M268.45,-224.2C279.45,-217.13 294.23,-207.62 305.21,-200.56\"/>\n</g>\n<!-- node7 -->\n<g id=\"node9\" class=\"node\">\n<title>node7</title>\n<polygon fill=\"none\" stroke=\"black\" points=\"304.8,-165.6 268.8,-165.6 268.8,-129.6 304.8,-129.6 304.8,-165.6\"/>\n<text text-anchor=\"middle\" x=\"286.8\" y=\"-143.9\" font-family=\"Times,serif\" font-size=\"14.00\">z</text>\n</g>\n<!-- node15&#45;&#45;node7 -->\n<g id=\"edge9\" class=\"edge\">\n<title>node15--node7</title>\n<path fill=\"none\" stroke=\"black\" d=\"M309.02,-176.17C306.44,-172.85 303.65,-169.27 300.96,-165.81\"/>\n</g>\n<!-- node14 -->\n<g id=\"node12\" class=\"node\">\n<title>node14</title>\n<ellipse fill=\"none\" stroke=\"black\" cx=\"387.6\" cy=\"-147.6\" rx=\"18\" ry=\"18\"/>\n<text text-anchor=\"middle\" x=\"387.6\" y=\"-143.9\" font-family=\"Times,serif\" font-size=\"14.00\">-</text>\n</g>\n<!-- node15&#45;&#45;node14 -->\n<g id=\"edge10\" class=\"edge\">\n<title>node15--node14</title>\n<path fill=\"none\" stroke=\"black\" d=\"M335.65,-181C346.65,-173.93 361.43,-164.42 372.41,-157.36\"/>\n</g>\n<!-- node8 -->\n<g id=\"node11\" class=\"node\">\n<title>node8</title>\n<polygon fill=\"none\" stroke=\"black\" points=\"372,-122.4 336,-122.4 336,-86.4 372,-86.4 372,-122.4\"/>\n<text text-anchor=\"middle\" x=\"354\" y=\"-100.7\" font-family=\"Times,serif\" font-size=\"14.00\">x</text>\n</g>\n<!-- node14&#45;&#45;node8 -->\n<g id=\"edge11\" class=\"edge\">\n<title>node14--node8</title>\n<path fill=\"none\" stroke=\"black\" d=\"M376.22,-132.97C373.64,-129.65 370.85,-126.07 368.16,-122.61\"/>\n</g>\n<!-- node13 -->\n<g id=\"node16\" class=\"node\">\n<title>node13</title>\n<ellipse fill=\"none\" stroke=\"black\" cx=\"522\" cy=\"-104.4\" rx=\"18\" ry=\"18\"/>\n<text text-anchor=\"middle\" x=\"522\" y=\"-100.7\" font-family=\"Times,serif\" font-size=\"14.00\">/</text>\n</g>\n<!-- node14&#45;&#45;node13 -->\n<g id=\"edge12\" class=\"edge\">\n<title>node14--node13</title>\n<path fill=\"none\" stroke=\"black\" d=\"M404.9,-142.04C430.7,-133.75 479,-118.22 504.77,-109.94\"/>\n</g>\n<!-- node9 -->\n<g id=\"node13\" class=\"node\">\n<title>node9</title>\n<polygon fill=\"none\" stroke=\"black\" points=\"439.2,-36 403.2,-36 403.2,0 439.2,0 439.2,-36\"/>\n<text text-anchor=\"middle\" x=\"421.2\" y=\"-14.3\" font-family=\"Times,serif\" font-size=\"14.00\">y</text>\n</g>\n<!-- node11 -->\n<g id=\"node14\" class=\"node\">\n<title>node11</title>\n<ellipse fill=\"none\" stroke=\"black\" cx=\"454.8\" cy=\"-61.2\" rx=\"18\" ry=\"18\"/>\n<text text-anchor=\"middle\" x=\"454.8\" y=\"-57.5\" font-family=\"Times,serif\" font-size=\"14.00\">*</text>\n</g>\n<!-- node11&#45;&#45;node9 -->\n<g id=\"edge14\" class=\"edge\">\n<title>node11--node9</title>\n<path fill=\"none\" stroke=\"black\" d=\"M443.42,-46.57C440.84,-43.25 438.05,-39.67 435.36,-36.21\"/>\n</g>\n<!-- node10 -->\n<g id=\"node15\" class=\"node\">\n<title>node10</title>\n<polygon fill=\"none\" stroke=\"black\" points=\"506.4,-36 470.4,-36 470.4,0 506.4,0 506.4,-36\"/>\n<text text-anchor=\"middle\" x=\"488.4\" y=\"-14.3\" font-family=\"Times,serif\" font-size=\"14.00\">w</text>\n</g>\n<!-- node11&#45;&#45;node10 -->\n<g id=\"edge15\" class=\"edge\">\n<title>node11--node10</title>\n<path fill=\"none\" stroke=\"black\" d=\"M466.18,-46.57C468.76,-43.25 471.55,-39.67 474.24,-36.21\"/>\n</g>\n<!-- node13&#45;&#45;node11 -->\n<g id=\"edge13\" class=\"edge\">\n<title>node13--node11</title>\n<path fill=\"none\" stroke=\"black\" d=\"M506.75,-94.6C495.75,-87.53 480.97,-78.02 469.99,-70.96\"/>\n</g>\n<!-- node12 -->\n<g id=\"node17\" class=\"node\">\n<title>node12</title>\n<polygon fill=\"none\" stroke=\"black\" points=\"573.6,-79.2 537.6,-79.2 537.6,-43.2 573.6,-43.2 573.6,-79.2\"/>\n<text text-anchor=\"middle\" x=\"555.6\" y=\"-57.5\" font-family=\"Times,serif\" font-size=\"14.00\">x</text>\n</g>\n<!-- node13&#45;&#45;node12 -->\n<g id=\"edge16\" class=\"edge\">\n<title>node13--node12</title>\n<path fill=\"none\" stroke=\"black\" d=\"M533.38,-89.77C535.96,-86.45 538.75,-82.87 541.44,-79.41\"/>\n</g>\n</g>\n</svg>"
          },
          "metadata": {}
        },
        {
          "output_type": "stream",
          "name": "stdout",
          "text": [
            "t1=x+y\n",
            "t2=x-y\n",
            "t3=t1+t2\n",
            "t4=y*w\n",
            "t5=t4/x\n",
            "t6=x-t5\n",
            "t7=z-t6\n",
            "t8=t3*t7\n"
          ]
        }
      ]
    },
    {
      "cell_type": "code",
      "source": [
        "probar(\"((a+b)*(c/t))+((d-(e+h))/(f-g))\")"
      ],
      "metadata": {
        "colab": {
          "base_uri": "https://localhost:8080/",
          "height": 456
        },
        "id": "rjEG-t-czS1h",
        "outputId": "7f946970-362d-43ca-a6c3-2ceda9c032d3"
      },
      "execution_count": null,
      "outputs": [
        {
          "output_type": "display_data",
          "data": {
            "text/plain": [
              "<IPython.core.display.SVG object>"
            ],
            "image/svg+xml": "<svg xmlns=\"http://www.w3.org/2000/svg\" xmlns:xlink=\"http://www.w3.org/1999/xlink\" width=\"582pt\" height=\"217pt\" viewBox=\"0.00 0.00 581.60 216.80\">\n<g id=\"graph0\" class=\"graph\" transform=\"scale(1 1) rotate(0) translate(4 212.8)\">\n<title>Arbol</title>\n<polygon fill=\"white\" stroke=\"transparent\" points=\"-4,4 -4,-212.8 577.6,-212.8 577.6,4 -4,4\"/>\n<!-- node0 -->\n<g id=\"node1\" class=\"node\">\n<title>node0</title>\n<polygon fill=\"none\" stroke=\"black\" points=\"36,-79.2 0,-79.2 0,-43.2 36,-43.2 36,-79.2\"/>\n<text text-anchor=\"middle\" x=\"18\" y=\"-57.5\" font-family=\"Times,serif\" font-size=\"14.00\">a</text>\n</g>\n<!-- node2 -->\n<g id=\"node2\" class=\"node\">\n<title>node2</title>\n<ellipse fill=\"none\" stroke=\"black\" cx=\"51.6\" cy=\"-104.4\" rx=\"18\" ry=\"18\"/>\n<text text-anchor=\"middle\" x=\"51.6\" y=\"-100.7\" font-family=\"Times,serif\" font-size=\"14.00\">+</text>\n</g>\n<!-- node2&#45;&#45;node0 -->\n<g id=\"edge3\" class=\"edge\">\n<title>node2--node0</title>\n<path fill=\"none\" stroke=\"black\" d=\"M40.22,-89.77C37.64,-86.45 34.85,-82.87 32.16,-79.41\"/>\n</g>\n<!-- node1 -->\n<g id=\"node3\" class=\"node\">\n<title>node1</title>\n<polygon fill=\"none\" stroke=\"black\" points=\"103.2,-79.2 67.2,-79.2 67.2,-43.2 103.2,-43.2 103.2,-79.2\"/>\n<text text-anchor=\"middle\" x=\"85.2\" y=\"-57.5\" font-family=\"Times,serif\" font-size=\"14.00\">b</text>\n</g>\n<!-- node2&#45;&#45;node1 -->\n<g id=\"edge4\" class=\"edge\">\n<title>node2--node1</title>\n<path fill=\"none\" stroke=\"black\" d=\"M62.98,-89.77C65.56,-86.45 68.35,-82.87 71.04,-79.41\"/>\n</g>\n<!-- node6 -->\n<g id=\"node4\" class=\"node\">\n<title>node6</title>\n<ellipse fill=\"none\" stroke=\"black\" cx=\"118.8\" cy=\"-147.6\" rx=\"18\" ry=\"18\"/>\n<text text-anchor=\"middle\" x=\"118.8\" y=\"-143.9\" font-family=\"Times,serif\" font-size=\"14.00\">*</text>\n</g>\n<!-- node6&#45;&#45;node2 -->\n<g id=\"edge2\" class=\"edge\">\n<title>node6--node2</title>\n<path fill=\"none\" stroke=\"black\" d=\"M103.55,-137.8C92.55,-130.73 77.77,-121.22 66.79,-114.16\"/>\n</g>\n<!-- node5 -->\n<g id=\"node6\" class=\"node\">\n<title>node5</title>\n<ellipse fill=\"none\" stroke=\"black\" cx=\"186\" cy=\"-104.4\" rx=\"18\" ry=\"18\"/>\n<text text-anchor=\"middle\" x=\"186\" y=\"-100.7\" font-family=\"Times,serif\" font-size=\"14.00\">/</text>\n</g>\n<!-- node6&#45;&#45;node5 -->\n<g id=\"edge5\" class=\"edge\">\n<title>node6--node5</title>\n<path fill=\"none\" stroke=\"black\" d=\"M134.05,-137.8C145.05,-130.73 159.83,-121.22 170.81,-114.16\"/>\n</g>\n<!-- node3 -->\n<g id=\"node5\" class=\"node\">\n<title>node3</title>\n<polygon fill=\"none\" stroke=\"black\" points=\"170.4,-79.2 134.4,-79.2 134.4,-43.2 170.4,-43.2 170.4,-79.2\"/>\n<text text-anchor=\"middle\" x=\"152.4\" y=\"-57.5\" font-family=\"Times,serif\" font-size=\"14.00\">c</text>\n</g>\n<!-- node5&#45;&#45;node3 -->\n<g id=\"edge6\" class=\"edge\">\n<title>node5--node3</title>\n<path fill=\"none\" stroke=\"black\" d=\"M174.62,-89.77C172.04,-86.45 169.25,-82.87 166.56,-79.41\"/>\n</g>\n<!-- node4 -->\n<g id=\"node7\" class=\"node\">\n<title>node4</title>\n<polygon fill=\"none\" stroke=\"black\" points=\"237.6,-79.2 201.6,-79.2 201.6,-43.2 237.6,-43.2 237.6,-79.2\"/>\n<text text-anchor=\"middle\" x=\"219.6\" y=\"-57.5\" font-family=\"Times,serif\" font-size=\"14.00\">t</text>\n</g>\n<!-- node5&#45;&#45;node4 -->\n<g id=\"edge7\" class=\"edge\">\n<title>node5--node4</title>\n<path fill=\"none\" stroke=\"black\" d=\"M197.38,-89.77C199.96,-86.45 202.75,-82.87 205.44,-79.41\"/>\n</g>\n<!-- node16 -->\n<g id=\"node8\" class=\"node\">\n<title>node16</title>\n<ellipse fill=\"none\" stroke=\"black\" cx=\"253.2\" cy=\"-190.8\" rx=\"18\" ry=\"18\"/>\n<text text-anchor=\"middle\" x=\"253.2\" y=\"-187.1\" font-family=\"Times,serif\" font-size=\"14.00\">+</text>\n</g>\n<!-- node16&#45;&#45;node6 -->\n<g id=\"edge1\" class=\"edge\">\n<title>node16--node6</title>\n<path fill=\"none\" stroke=\"black\" d=\"M235.9,-185.24C210.1,-176.95 161.8,-161.42 136.03,-153.14\"/>\n</g>\n<!-- node15 -->\n<g id=\"node14\" class=\"node\">\n<title>node15</title>\n<ellipse fill=\"none\" stroke=\"black\" cx=\"454.8\" cy=\"-147.6\" rx=\"18\" ry=\"18\"/>\n<text text-anchor=\"middle\" x=\"454.8\" y=\"-143.9\" font-family=\"Times,serif\" font-size=\"14.00\">/</text>\n</g>\n<!-- node16&#45;&#45;node15 -->\n<g id=\"edge8\" class=\"edge\">\n<title>node16--node15</title>\n<path fill=\"none\" stroke=\"black\" d=\"M271.09,-186.97C309.35,-178.77 398.73,-159.62 436.95,-151.43\"/>\n</g>\n<!-- node7 -->\n<g id=\"node9\" class=\"node\">\n<title>node7</title>\n<polygon fill=\"none\" stroke=\"black\" points=\"304.8,-79.2 268.8,-79.2 268.8,-43.2 304.8,-43.2 304.8,-79.2\"/>\n<text text-anchor=\"middle\" x=\"286.8\" y=\"-57.5\" font-family=\"Times,serif\" font-size=\"14.00\">d</text>\n</g>\n<!-- node11 -->\n<g id=\"node10\" class=\"node\">\n<title>node11</title>\n<ellipse fill=\"none\" stroke=\"black\" cx=\"320.4\" cy=\"-104.4\" rx=\"18\" ry=\"18\"/>\n<text text-anchor=\"middle\" x=\"320.4\" y=\"-100.7\" font-family=\"Times,serif\" font-size=\"14.00\">-</text>\n</g>\n<!-- node11&#45;&#45;node7 -->\n<g id=\"edge10\" class=\"edge\">\n<title>node11--node7</title>\n<path fill=\"none\" stroke=\"black\" d=\"M309.02,-89.77C306.44,-86.45 303.65,-82.87 300.96,-79.41\"/>\n</g>\n<!-- node10 -->\n<g id=\"node12\" class=\"node\">\n<title>node10</title>\n<ellipse fill=\"none\" stroke=\"black\" cx=\"387.6\" cy=\"-61.2\" rx=\"18\" ry=\"18\"/>\n<text text-anchor=\"middle\" x=\"387.6\" y=\"-57.5\" font-family=\"Times,serif\" font-size=\"14.00\">+</text>\n</g>\n<!-- node11&#45;&#45;node10 -->\n<g id=\"edge11\" class=\"edge\">\n<title>node11--node10</title>\n<path fill=\"none\" stroke=\"black\" d=\"M335.65,-94.6C346.65,-87.53 361.43,-78.02 372.41,-70.96\"/>\n</g>\n<!-- node8 -->\n<g id=\"node11\" class=\"node\">\n<title>node8</title>\n<polygon fill=\"none\" stroke=\"black\" points=\"372,-36 336,-36 336,0 372,0 372,-36\"/>\n<text text-anchor=\"middle\" x=\"354\" y=\"-14.3\" font-family=\"Times,serif\" font-size=\"14.00\">e</text>\n</g>\n<!-- node10&#45;&#45;node8 -->\n<g id=\"edge12\" class=\"edge\">\n<title>node10--node8</title>\n<path fill=\"none\" stroke=\"black\" d=\"M376.22,-46.57C373.64,-43.25 370.85,-39.67 368.16,-36.21\"/>\n</g>\n<!-- node9 -->\n<g id=\"node13\" class=\"node\">\n<title>node9</title>\n<polygon fill=\"none\" stroke=\"black\" points=\"439.2,-36 403.2,-36 403.2,0 439.2,0 439.2,-36\"/>\n<text text-anchor=\"middle\" x=\"421.2\" y=\"-14.3\" font-family=\"Times,serif\" font-size=\"14.00\">h</text>\n</g>\n<!-- node10&#45;&#45;node9 -->\n<g id=\"edge13\" class=\"edge\">\n<title>node10--node9</title>\n<path fill=\"none\" stroke=\"black\" d=\"M398.98,-46.57C401.56,-43.25 404.35,-39.67 407.04,-36.21\"/>\n</g>\n<!-- node15&#45;&#45;node11 -->\n<g id=\"edge9\" class=\"edge\">\n<title>node15--node11</title>\n<path fill=\"none\" stroke=\"black\" d=\"M437.5,-142.04C411.7,-133.75 363.4,-118.22 337.63,-109.94\"/>\n</g>\n<!-- node14 -->\n<g id=\"node16\" class=\"node\">\n<title>node14</title>\n<ellipse fill=\"none\" stroke=\"black\" cx=\"522\" cy=\"-104.4\" rx=\"18\" ry=\"18\"/>\n<text text-anchor=\"middle\" x=\"522\" y=\"-100.7\" font-family=\"Times,serif\" font-size=\"14.00\">-</text>\n</g>\n<!-- node15&#45;&#45;node14 -->\n<g id=\"edge14\" class=\"edge\">\n<title>node15--node14</title>\n<path fill=\"none\" stroke=\"black\" d=\"M470.05,-137.8C481.05,-130.73 495.83,-121.22 506.81,-114.16\"/>\n</g>\n<!-- node12 -->\n<g id=\"node15\" class=\"node\">\n<title>node12</title>\n<polygon fill=\"none\" stroke=\"black\" points=\"506.4,-79.2 470.4,-79.2 470.4,-43.2 506.4,-43.2 506.4,-79.2\"/>\n<text text-anchor=\"middle\" x=\"488.4\" y=\"-57.5\" font-family=\"Times,serif\" font-size=\"14.00\">f</text>\n</g>\n<!-- node14&#45;&#45;node12 -->\n<g id=\"edge15\" class=\"edge\">\n<title>node14--node12</title>\n<path fill=\"none\" stroke=\"black\" d=\"M510.62,-89.77C508.04,-86.45 505.25,-82.87 502.56,-79.41\"/>\n</g>\n<!-- node13 -->\n<g id=\"node17\" class=\"node\">\n<title>node13</title>\n<polygon fill=\"none\" stroke=\"black\" points=\"573.6,-79.2 537.6,-79.2 537.6,-43.2 573.6,-43.2 573.6,-79.2\"/>\n<text text-anchor=\"middle\" x=\"555.6\" y=\"-57.5\" font-family=\"Times,serif\" font-size=\"14.00\">g</text>\n</g>\n<!-- node14&#45;&#45;node13 -->\n<g id=\"edge16\" class=\"edge\">\n<title>node14--node13</title>\n<path fill=\"none\" stroke=\"black\" d=\"M533.38,-89.77C535.96,-86.45 538.75,-82.87 541.44,-79.41\"/>\n</g>\n</g>\n</svg>"
          },
          "metadata": {}
        },
        {
          "output_type": "stream",
          "name": "stdout",
          "text": [
            "t1=a+b\n",
            "t2=c/t\n",
            "t3=t1*t2\n",
            "t4=e+h\n",
            "t5=d-t4\n",
            "t6=f-g\n",
            "t7=t5/t6\n",
            "t8=t3+t7\n"
          ]
        }
      ]
    }
  ]
}